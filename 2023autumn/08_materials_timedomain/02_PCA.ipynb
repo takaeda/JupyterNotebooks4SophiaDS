{
 "cells": [
  {
   "cell_type": "markdown",
   "id": "f34e840f-3e2f-4173-a3a3-b0d5fa70ea44",
   "metadata": {},
   "source": [
    "## PCAによる多次元時系列データ分析"
   ]
  },
  {
   "cell_type": "code",
   "execution_count": null,
   "id": "e6d06544-962d-460d-ad03-2e42ed85c1bc",
   "metadata": {},
   "outputs": [],
   "source": [
    "import numpy as np\n",
    "import pandas as pd\n",
    "from sklearn.decomposition import PCA\n",
    "import matplotlib.pyplot as plt\n",
    "\n",
    "# 仮想的な多次元時系列データの生成\n",
    "np.random.seed(0)\n",
    "data = np.column_stack([\n",
    "    np.random.random(100) + 5 * np.sin(np.linspace(0, 20, 100)),  # 第4成分（周期的な変動）\n",
    "    np.random.random(100) - np.arange(100) * 0.5,  # 第1成分（一定減少の傾向）\n",
    "    np.random.random(100) + np.arange(100) * 0.5,  # 第2成分（一定増加の傾向）\n",
    "    np.random.random(100) - np.arange(100) * 0.1,  # 第3成分（異なる傾向）\n",
    "    np.random.random(100),  # ランダムな成分\n",
    "    np.random.random(100),  # ランダムな成分\n",
    "])\n",
    "time_series_df = pd.DataFrame(data, columns=[f'TimeSeries_{i}' for i in range(1, 7)])\n",
    "\n",
    "\n",
    "# PCAオブジェクトの作成とデータに対する適用\n",
    "pca = PCA(n_components=2)\n",
    "principal_components = pca.fit_transform(time_series_df)\n",
    "\n",
    "# 主成分をデータフレームに変換\n",
    "principal_df = pd.DataFrame(data=principal_components, columns=['Principal Component 1', 'Principal Component 2'])\n",
    "\n",
    "# 主成分の可視化\n",
    "# 時系列データに沿って主成分の散布図をプロットし、点を線で結ぶ\n",
    "plt.figure(figsize=(10, 6))\n",
    "plt.scatter(principal_df['Principal Component 1'], principal_df['Principal Component 2'], c=range(len(principal_df)), cmap='viridis')\n",
    "plt.plot(principal_df['Principal Component 1'], principal_df['Principal Component 2'], color='gray', alpha=0.5)\n",
    "plt.colorbar(label='Time')\n",
    "plt.xlabel('Principal Component 1')\n",
    "plt.ylabel('Principal Component 2')\n",
    "plt.title('PCA Scatter Plot with Time Series Order')\n",
    "plt.show()\n",
    "\n",
    "# 時間経過とともに主成分がどのように変化したかをプロット\n",
    "plt.figure(figsize=(10, 6))\n",
    "plt.plot(principal_df['Principal Component 1'], label='Principal Component 1')\n",
    "plt.plot(principal_df['Principal Component 2'], label='Principal Component 2')\n",
    "plt.xlabel('Time')\n",
    "plt.ylabel('Principal Component Value')\n",
    "plt.title('Time Series Variation in Principal Components')\n",
    "plt.legend()\n",
    "plt.show()"
   ]
  },
  {
   "cell_type": "code",
   "execution_count": null,
   "id": "c92477d5-8dd3-47bb-9f01-6a052c0aa856",
   "metadata": {},
   "outputs": [],
   "source": []
  }
 ],
 "metadata": {
  "kernelspec": {
   "display_name": "Python 3 (ipykernel)",
   "language": "python",
   "name": "python3"
  },
  "language_info": {
   "codemirror_mode": {
    "name": "ipython",
    "version": 3
   },
   "file_extension": ".py",
   "mimetype": "text/x-python",
   "name": "python",
   "nbconvert_exporter": "python",
   "pygments_lexer": "ipython3",
   "version": "3.11.6"
  }
 },
 "nbformat": 4,
 "nbformat_minor": 5
}
