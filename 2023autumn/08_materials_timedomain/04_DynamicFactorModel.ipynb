{
 "cells": [
  {
   "cell_type": "markdown",
   "id": "15f9d127-c1a5-4555-b4be-bb95d45ee087",
   "metadata": {},
   "source": [
    "# ダイナミックファクターモデル"
   ]
  },
  {
   "cell_type": "code",
   "execution_count": null,
   "id": "a37bc3a4-590b-4a77-97c4-2b4802dab1a9",
   "metadata": {},
   "outputs": [],
   "source": [
    "import numpy as np\n",
    "import pandas as pd\n",
    "import matplotlib.pyplot as plt\n",
    "from statsmodels.tsa.statespace.dynamic_factor import DynamicFactor\n"
   ]
  },
  {
   "cell_type": "code",
   "execution_count": null,
   "id": "2b9bf0af-39d7-4d3b-9d36-28c174ab635c",
   "metadata": {},
   "outputs": [],
   "source": [
    "# 仮想的な時系列データの生成\n",
    "np.random.seed(0)\n",
    "data = np.column_stack([\n",
    "    np.random.random(100) + np.sin(np.linspace(0, 20, 100)),\n",
    "    np.random.random(100) + np.cos(np.linspace(0, 20, 100)),\n",
    "    np.random.random(100) + np.sin(np.linspace(0, 10, 100))\n",
    "])\n",
    "time_series_df = pd.DataFrame(data, columns=['Series1', 'Series2', 'Series3'])\n",
    "\n",
    "# データの可視化\n",
    "time_series_df.plot()\n",
    "plt.xlabel('Time')\n",
    "plt.ylabel('Value')\n",
    "plt.title('Time Series Data')\n",
    "plt.show()\n"
   ]
  },
  {
   "cell_type": "code",
   "execution_count": null,
   "id": "28c9eec4-eac8-4148-be07-2c9b9edd60f7",
   "metadata": {},
   "outputs": [],
   "source": [
    "# ダイナミックファクターモデルの適用\n",
    "model = DynamicFactor(time_series_df, k_factors=1, factor_order=1)\n",
    "model_fitted = model.fit()\n",
    "\n",
    "# モデルのサマリーを表示\n",
    "model_summary = model_fitted.summary()\n",
    "print(model_summary)"
   ]
  },
  {
   "cell_type": "code",
   "execution_count": null,
   "id": "46c4c5ec-ebd2-4e1c-bb7c-10b8e04a0ffb",
   "metadata": {},
   "outputs": [],
   "source": []
  }
 ],
 "metadata": {
  "kernelspec": {
   "display_name": "Python 3 (ipykernel)",
   "language": "python",
   "name": "python3"
  },
  "language_info": {
   "codemirror_mode": {
    "name": "ipython",
    "version": 3
   },
   "file_extension": ".py",
   "mimetype": "text/x-python",
   "name": "python",
   "nbconvert_exporter": "python",
   "pygments_lexer": "ipython3",
   "version": "3.11.6"
  }
 },
 "nbformat": 4,
 "nbformat_minor": 5
}
