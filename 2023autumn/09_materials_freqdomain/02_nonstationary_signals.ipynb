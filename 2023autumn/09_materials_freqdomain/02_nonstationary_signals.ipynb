{
 "cells": [
  {
   "cell_type": "markdown",
   "id": "bb74007d-0d3b-41f8-9174-85522d36d3e6",
   "metadata": {},
   "source": [
    "# 非定常信号の特性把握\n",
    "\n",
    "時間経過とともに振動データの特性が変化するような場合、時間領域のデータからだけではその特性の変化を定量的に識別することが困難となる。\n",
    "ここでは、短時間フーリエ変換(STFT)により、周波数特性が時間とともにどのように変化するかを示す。"
   ]
  },
  {
   "cell_type": "code",
   "execution_count": null,
   "id": "bcb1ea6e-cb93-4016-8172-634dd2e30628",
   "metadata": {},
   "outputs": [],
   "source": [
    "# コードの再実行（修正版）\n",
    "import matplotlib.pyplot as plt\n",
    "import numpy as np\n",
    "from scipy.signal import stft\n",
    "\n",
    "# 非定常信号の生成 (周波数が時間とともに変化する信号)\n",
    "fs = 10000  # サンプリング周波数\n",
    "t = np.arange(0, 1, 1/fs)  # 時間軸（1秒間）\n",
    "f = np.linspace(5, 100, len(t))  # 周波数が5Hzから100Hzへ変化\n",
    "nonstationary_signal = np.sin(2 * np.pi * f * t)\n",
    "\n",
    "# 時間領域の信号プロット\n",
    "plt.figure(figsize=(10, 4))\n",
    "plt.plot(t, nonstationary_signal)\n",
    "plt.title('Nonstationary Signal in Time Domain')\n",
    "plt.xlabel('Time [sec]')\n",
    "plt.ylabel('Amplitude')\n",
    "plt.tight_layout()\n",
    "plt.show()\n",
    "\n",
    "# 短時間フーリエ変換（STFT）の実行\n",
    "frequencies, times, Zxx = stft(nonstationary_signal, fs, nperseg=1024)\n",
    "\n",
    "# STFT結果のプロット\n",
    "plt.figure(figsize=(10, 4))\n",
    "plt.pcolormesh(times, frequencies, np.abs(Zxx), shading='gouraud')\n",
    "plt.title('STFT Magnitude')\n",
    "plt.ylabel('Frequency [Hz]')\n",
    "plt.xlabel('Time [sec]')\n",
    "plt.colorbar(label='Magnitude')\n",
    "plt.tight_layout()\n",
    "plt.ylim(0, 300)  # 周波数範囲の設定\n",
    "plt.show()"
   ]
  },
  {
   "cell_type": "code",
   "execution_count": null,
   "id": "86044613-6377-46ca-b450-571dded22e43",
   "metadata": {},
   "outputs": [],
   "source": []
  }
 ],
 "metadata": {
  "kernelspec": {
   "display_name": "Python 3 (ipykernel)",
   "language": "python",
   "name": "python3"
  },
  "language_info": {
   "codemirror_mode": {
    "name": "ipython",
    "version": 3
   },
   "file_extension": ".py",
   "mimetype": "text/x-python",
   "name": "python",
   "nbconvert_exporter": "python",
   "pygments_lexer": "ipython3",
   "version": "3.11.6"
  }
 },
 "nbformat": 4,
 "nbformat_minor": 5
}
