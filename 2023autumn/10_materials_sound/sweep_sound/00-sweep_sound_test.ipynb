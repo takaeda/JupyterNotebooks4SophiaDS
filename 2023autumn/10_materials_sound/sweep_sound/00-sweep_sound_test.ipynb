{
 "cells": [
  {
   "cell_type": "markdown",
   "id": "3e69dd10-bd8a-4208-8444-80ec2f4c56bf",
   "metadata": {},
   "source": [
    "# Sweep音の解析\n",
    "\n",
    "なお、Sweep音とは、スイープ音は時間的に周波数が変化する音である。\n",
    "\n",
    "次のセルを実行し、`rawdata`に`sweep_sound.wav`が指定されていることを確認し、セーブせよ。"
   ]
  },
  {
   "cell_type": "code",
   "execution_count": null,
   "id": "630e14ed-2227-4a33-8253-e1f61c2ba70b",
   "metadata": {},
   "outputs": [],
   "source": [
    "import toorpia.utils as toorpia\n",
    "toorpia.edit_params()"
   ]
  },
  {
   "cell_type": "markdown",
   "id": "fe3479c1-6874-4839-8062-566b70b3ce58",
   "metadata": {},
   "source": [
    "## Sweep音のtoorPIAによる解析結果の確認\n",
    "\n",
    "次のセルを実行し、Sweep音が連続した一直線のマップになることを確認せよ。"
   ]
  },
  {
   "cell_type": "code",
   "execution_count": null,
   "id": "a8ffeb2a-6095-469e-8f0a-ef04e92da87b",
   "metadata": {},
   "outputs": [],
   "source": [
    "x, y = toorpia.create_basemap()"
   ]
  },
  {
   "cell_type": "markdown",
   "id": "74305915-95dd-40f2-bbbb-2eee73784a31",
   "metadata": {},
   "source": [
    "## ゲインの影響\n",
    "\n",
    "`sweep_sound-various_gain.wav`には、`sweep_sound.wav`と同じ周波数変化帯からなるSweep音が入っているが、途中でゲインが変化している。\n",
    "これを、`sweep_sound.wav`のマップに追加プロットしたときに、ゲインの影響がどのようになるかを調べる。\n",
    "\n",
    "まず、次のセルを実行し、`add_rawdata`項目に`sweep_sound-various_gain.wav`を設定し、\"Save Params\"ボタンをクリックしてセーブせよ。"
   ]
  },
  {
   "cell_type": "code",
   "execution_count": null,
   "id": "e03016bc-9163-4596-a34d-7f3ac0987753",
   "metadata": {},
   "outputs": [],
   "source": [
    "toorpia.edit_params()"
   ]
  },
  {
   "cell_type": "markdown",
   "id": "0686bb5a-4bc8-4c18-9914-2d82ea630403",
   "metadata": {},
   "source": [
    "次のセルを実行して、`sweep_sound.wav`のマップに対して`sweep_sound-various_gain.wav`がほぼ一致することを確認せよ。\n",
    "（音・振動データの実運用では、ゲインの影響を受けないことが重要となることが多い。）"
   ]
  },
  {
   "cell_type": "code",
   "execution_count": null,
   "id": "c7593e65-d51c-4b2a-96fd-1e7453c7d059",
   "metadata": {},
   "outputs": [],
   "source": [
    "xadd, yadd = toorpia.addplot()"
   ]
  }
 ],
 "metadata": {
  "kernelspec": {
   "display_name": "Python 3 (ipykernel)",
   "language": "python",
   "name": "python3"
  },
  "language_info": {
   "codemirror_mode": {
    "name": "ipython",
    "version": 3
   },
   "file_extension": ".py",
   "mimetype": "text/x-python",
   "name": "python",
   "nbconvert_exporter": "python",
   "pygments_lexer": "ipython3",
   "version": "3.11.6"
  }
 },
 "nbformat": 4,
 "nbformat_minor": 5
}
