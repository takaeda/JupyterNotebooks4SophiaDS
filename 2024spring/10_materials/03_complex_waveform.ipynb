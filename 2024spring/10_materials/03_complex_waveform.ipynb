{
 "cells": [
  {
   "cell_type": "markdown",
   "id": "0ceee918-3c00-40e1-9305-6743d827dc9e",
   "metadata": {},
   "source": [
    "# 複雑な波形の分析"
   ]
  },
  {
   "cell_type": "code",
   "execution_count": null,
   "id": "dae01c89-cc67-4cc6-9dbb-d9a58af0ed27",
   "metadata": {},
   "outputs": [],
   "source": [
    "import numpy as np\n",
    "import matplotlib.pyplot as plt\n",
    "from scipy.fft import fft\n",
    "\n",
    "# サンプリング周波数と時間軸の設定\n",
    "fs = 10000  # サンプリング周波数\n",
    "t = np.arange(0, 1, 1/fs)  # 時間軸（1秒間）\n",
    "\n",
    "# 信号の生成（複数の周波数成分を含む信号）\n",
    "frequencies = [5, 15, 30, 40]  # 周波数成分（5Hz, 15Hz, 30Hz, 40Hz）\n",
    "signal = sum(np.sin(2 * np.pi * f * t) for f in frequencies)\n",
    "\n",
    "# 時間領域のプロット\n",
    "plt.figure(figsize=(12, 4))\n",
    "plt.subplot(1, 2, 1)\n",
    "plt.plot(t, signal)\n",
    "plt.title(\"Time Domain Signal\")\n",
    "plt.xlabel(\"Time [s]\")\n",
    "plt.ylabel(\"Amplitude\")\n",
    "\n",
    "# FFTによる周波数領域への変換\n",
    "fft_result = fft(signal)\n",
    "freqs = np.fft.fftfreq(len(t), 1/fs)\n",
    "\n",
    "# 周波数領域のプロット\n",
    "plt.subplot(1, 2, 2)\n",
    "plt.plot(freqs, np.abs(fft_result))\n",
    "plt.title(\"Frequency Domain (FFT)\")\n",
    "plt.xlabel(\"Frequency [Hz]\")\n",
    "plt.ylabel(\"Magnitude\")\n",
    "plt.xlim(0, 100)  # 50Hzまでの範囲を表示\n",
    "\n",
    "plt.tight_layout()\n",
    "plt.show()"
   ]
  }
 ],
 "metadata": {
  "kernelspec": {
   "display_name": "Python 3 (ipykernel)",
   "language": "python",
   "name": "python3"
  },
  "language_info": {
   "codemirror_mode": {
    "name": "ipython",
    "version": 3
   },
   "file_extension": ".py",
   "mimetype": "text/x-python",
   "name": "python",
   "nbconvert_exporter": "python",
   "pygments_lexer": "ipython3",
   "version": "3.12.3"
  }
 },
 "nbformat": 4,
 "nbformat_minor": 5
}
