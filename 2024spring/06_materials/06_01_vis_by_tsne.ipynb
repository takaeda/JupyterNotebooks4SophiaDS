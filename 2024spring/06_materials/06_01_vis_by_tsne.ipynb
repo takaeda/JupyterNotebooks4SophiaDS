{
 "cells": [
  {
   "cell_type": "markdown",
   "id": "64ee50e5-2825-4b10-baeb-73c3e18a8095",
   "metadata": {},
   "source": [
    "# Visualizing the embeddings in 2D by t-SNE\n",
    "We will use t-SNE to reduce the dimensionality of the embeddings from 1536 to 2. Once the embeddings are reduced to two dimensions, we can plot them in a 2D scatter plot. "
   ]
  },
  {
   "cell_type": "code",
   "execution_count": null,
   "id": "fd97d6ec-cf00-4a59-b057-c0d74cee1aa2",
   "metadata": {},
   "outputs": [],
   "source": [
    "import pandas as pd\n",
    "from sklearn.manifold import TSNE\n",
    "import numpy as np\n",
    "from ast import literal_eval\n",
    "\n",
    "# Load the embeddings\n",
    "#datafile_path = \"data/fine_food_reviews_with_embeddings_1k.csv\"\n",
    "datafile_path = \"data/amazon_review_with_embeddings_1k.csv\"\n",
    "df = pd.read_csv(datafile_path)\n",
    "\n",
    "# Convert to a list of lists of floats\n",
    "matrix = np.array(df.embedding.apply(literal_eval).to_list())\n",
    "\n",
    "# Create a t-SNE model and transform the data\n",
    "tsne = TSNE(n_components=2, random_state=42)\n",
    "vis_dims = tsne.fit_transform(matrix)\n",
    "vis_dims.shape"
   ]
  },
  {
   "cell_type": "markdown",
   "id": "d437b206-1abd-436b-9b8e-df8725ce489b",
   "metadata": {},
   "source": [
    "# Plotting the embeddings\n",
    "\n",
    "We colour each review by its star rating, ranging from red to green.\n",
    "\n",
    "We can observe a decent data separation even in the reduced 2 dimensions."
   ]
  },
  {
   "cell_type": "code",
   "execution_count": null,
   "id": "8a326827-ab81-497a-b4bb-5804a480386b",
   "metadata": {},
   "outputs": [],
   "source": [
    "import matplotlib.pyplot as plt\n",
    "import matplotlib\n",
    "import numpy as np\n",
    "\n",
    "colors = [\"red\", \"orange\", \"yellow\", \"green\", \"blue\"]\n",
    "x = [x for x, y in vis_dims]\n",
    "y = [y for x, y in vis_dims]\n",
    "color_indices = df.Score.values - 1\n",
    "\n",
    "colormap = matplotlib.colors.ListedColormap(colors)\n",
    "plt.figure(figsize=(8, 8))\n",
    "plt.scatter(x, y, c=color_indices, cmap=colormap, alpha=0.3, s=30)\n",
    "\n",
    "plt.title(\"Amazon ratings visualized in language using t-SNE\")\n",
    "\n",
    "# Get the limits for both axes\n",
    "x_min, x_max = min(x), max(x)\n",
    "y_min, y_max = min(y), max(y)\n",
    "\n",
    "# Determine the larger range\n",
    "x_range = x_max - x_min\n",
    "y_range = y_max - y_min\n",
    "max_range = max(x_range, y_range)\n",
    "\n",
    "# Set the limits\n",
    "x_center = (x_max + x_min) / 2\n",
    "y_center = (y_max + y_min) / 2\n",
    "\n",
    "plt.xlim(x_center - max_range / 2 * 1.2, x_center + max_range / 2 * 1.2)\n",
    "plt.ylim(y_center - max_range / 2 * 1.2, y_center + max_range / 2 * 1.2)\n",
    "\n",
    "plt.gca().set_aspect('equal', adjustable='box')\n",
    "plt.show()\n"
   ]
  },
  {
   "cell_type": "markdown",
   "id": "4be4cd64-e063-4d3c-b279-8ac302cd485a",
   "metadata": {},
   "source": [
    "# 高次元空間におけるembeddingsベクトル間の距離と２Dマップ上での距離との比較"
   ]
  },
  {
   "cell_type": "code",
   "execution_count": null,
   "id": "302884ca-e4f6-47d0-b933-f7f97b6f2124",
   "metadata": {},
   "outputs": [],
   "source": [
    "import pandas as pd\n",
    "import numpy as np\n",
    "from ast import literal_eval\n",
    "from scipy.spatial.distance import pdist, squareform\n",
    "import matplotlib.pyplot as plt\n",
    "\n",
    "# Calculate the pairwise Euclidean distances in the original space\n",
    "original_distances = pdist(matrix, 'euclidean')\n",
    "original_distances_square = squareform(original_distances)\n",
    "\n",
    "# Calculate the pairwise Euclidean distances in the reduced space\n",
    "reduced_distances = pdist(vis_dims, 'euclidean')\n",
    "reduced_distances_square = squareform(reduced_distances)\n",
    "\n",
    "# Flatten the distance matrices for plotting\n",
    "original_distances_flat = original_distances_square.flatten()\n",
    "reduced_distances_flat = reduced_distances_square.flatten()\n",
    "\n",
    "# Plot the original distances vs. the reduced distances\n",
    "plt.figure(figsize=(4, 4))\n",
    "plt.scatter(original_distances_flat, reduced_distances_flat, alpha=0.3, s=0.00005)\n",
    "plt.xlabel('Original Euclidean Distances')\n",
    "plt.ylabel('Reduced Euclidean Distances')\n",
    "plt.xlim(0.9,1.3)\n",
    "plt.ylim(0,110)\n",
    "plt.title('Comparison of Distances Before and After Dimensionality Reduction')\n",
    "plt.grid(True)\n",
    "plt.show()\n"
   ]
  }
 ],
 "metadata": {
  "kernelspec": {
   "display_name": "Python 3 (ipykernel)",
   "language": "python",
   "name": "python3"
  },
  "language_info": {
   "codemirror_mode": {
    "name": "ipython",
    "version": 3
   },
   "file_extension": ".py",
   "mimetype": "text/x-python",
   "name": "python",
   "nbconvert_exporter": "python",
   "pygments_lexer": "ipython3",
   "version": "3.12.3"
  }
 },
 "nbformat": 4,
 "nbformat_minor": 5
}
