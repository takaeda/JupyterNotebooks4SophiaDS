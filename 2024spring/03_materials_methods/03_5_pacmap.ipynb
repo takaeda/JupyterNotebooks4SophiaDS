{
 "cells": [
  {
   "cell_type": "markdown",
   "id": "a2075575-3457-4bd5-8f53-7476d17a891f",
   "metadata": {},
   "source": [
    "# PaCMAPを理解するためのノートブック"
   ]
  },
  {
   "cell_type": "code",
   "execution_count": null,
   "id": "37dc656e-2af9-40a6-b1b1-180d4497ebf9",
   "metadata": {},
   "outputs": [],
   "source": [
    "# ライブラリのインポート\n",
    "import numpy as np\n",
    "import matplotlib.pyplot as plt\n",
    "from ipywidgets import interact, IntSlider\n",
    "from sklearn.datasets import make_blobs\n",
    "from scipy.spatial.distance import pdist, squareform\n",
    "import pacmap"
   ]
  },
  {
   "cell_type": "code",
   "execution_count": null,
   "id": "ad7ccd5b-49c9-413c-9458-13de6b4a6231",
   "metadata": {},
   "outputs": [],
   "source": [
    "# データセットの生成\n",
    "X, y = make_blobs(n_samples=400, n_features=3, centers=4, random_state=42, cluster_std=3)\n",
    "\n",
    "# 3Dプロットのインタラクティブ表示\n",
    "def plot_3d(elev=30, azim=30):\n",
    "    fig = plt.figure(figsize=(10, 8))\n",
    "    ax = fig.add_subplot(111, projection='3d')\n",
    "    ax.scatter(X[:, 0], X[:, 1], X[:, 2], c=y, cmap='viridis')\n",
    "    ax.set_title(\"Original Data in 3D\")\n",
    "    ax.set_xlabel(\"Feature 1\")\n",
    "    ax.set_ylabel(\"Feature 2\")\n",
    "    ax.set_zlabel(\"Feature 3\")\n",
    "    ax.view_init(elev=elev, azim=azim)\n",
    "    plt.show()\n",
    "\n",
    "# ウィジェットを用いたインタラクティブプロット\n",
    "interact(plot_3d, elev=IntSlider(min=-180, max=180, step=10, value=30), azim=IntSlider(min=-180, max=180, step=10, value=30))"
   ]
  },
  {
   "cell_type": "code",
   "execution_count": null,
   "id": "c6c1053b-8c2f-4c81-95bd-ac40f855c785",
   "metadata": {},
   "outputs": [],
   "source": [
    "# データ間の距離を計算\n",
    "distances = pdist(X, 'euclidean')\n",
    "\n",
    "# 距離のヒストグラムをプロット\n",
    "plt.figure(figsize=(10, 6))\n",
    "plt.hist(distances, bins=50, alpha=0.75, color='blue')\n",
    "plt.title(\"Distribution of Pairwise Distances in 3D Data\")\n",
    "plt.xlabel(\"Distance\")\n",
    "plt.ylabel(\"Frequency\")\n",
    "plt.grid(True)\n",
    "plt.show()"
   ]
  },
  {
   "cell_type": "code",
   "execution_count": null,
   "id": "b637a181-3955-40cf-8e50-93810fda8276",
   "metadata": {},
   "outputs": [],
   "source": [
    "# PaCMAPの適用\n",
    "def apply_pacmap(X, n_neighbors=10):\n",
    "    instance = pacmap.PaCMAP(n_components=2, n_neighbors=n_neighbors)\n",
    "    X_pacmap = instance.fit_transform(X)\n",
    "    return X_pacmap\n",
    "\n",
    "# n_neighbors値を変更しながらプロット\n",
    "neighbor_settings = [5, 15, 30, 50]\n",
    "plt.figure(figsize=(10, 8))\n",
    "for i, n_neighbors in enumerate(neighbor_settings):\n",
    "    X_pacmap = apply_pacmap(X, n_neighbors)\n",
    "    plt.subplot(2, 2, i+1)\n",
    "    plt.scatter(X_pacmap[:, 0], X_pacmap[:, 1], c=y)\n",
    "    plt.title(f\"PaCMAP with n_neighbors={n_neighbors}\")\n",
    "plt.tight_layout()\n",
    "plt.show()\n"
   ]
  },
  {
   "cell_type": "code",
   "execution_count": null,
   "id": "81d11f1c-53e4-4240-978f-044236afed7e",
   "metadata": {},
   "outputs": [],
   "source": [
    "from scipy.spatial.distance import pdist, squareform\n",
    "\n",
    "# n_neighbors値を変更しながらプロット\n",
    "neighbor_settings = [5, 15, 30, 50]\n",
    "plt.figure(figsize=(10, 8))\n",
    "\n",
    "# 元のデータの距離行列\n",
    "distances_original = squareform(pdist(X))\n",
    "\n",
    "for i, n_neighbors in enumerate(neighbor_settings):\n",
    "    X_r = apply_pacmap(X, n_neighbors)\n",
    "    distances = squareform(pdist(X_r))\n",
    "\n",
    "    # プロット\n",
    "    plt.subplot(2, 2, i+1)\n",
    "    plt.scatter(distances_original.flatten(), distances.flatten(), alpha=0.05, s=0.1)\n",
    "    plt.title(f\"Distances: PaCMAP Neighbors={n_neighbors}\")\n",
    "    plt.xlabel(\"Original Distances\")\n",
    "    plt.ylabel(\"PaCMAP Distances\")\n",
    "    plt.grid(True)\n",
    "\n",
    "plt.tight_layout()\n",
    "plt.show()"
   ]
  }
 ],
 "metadata": {
  "kernelspec": {
   "display_name": "Python 3 (ipykernel)",
   "language": "python",
   "name": "python3"
  },
  "language_info": {
   "codemirror_mode": {
    "name": "ipython",
    "version": 3
   },
   "file_extension": ".py",
   "mimetype": "text/x-python",
   "name": "python",
   "nbconvert_exporter": "python",
   "pygments_lexer": "ipython3",
   "version": "3.11.8"
  }
 },
 "nbformat": 4,
 "nbformat_minor": 5
}
