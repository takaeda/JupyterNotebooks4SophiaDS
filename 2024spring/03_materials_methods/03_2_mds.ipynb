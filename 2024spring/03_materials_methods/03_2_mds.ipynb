{
 "cells": [
  {
   "cell_type": "markdown",
   "id": "a2075575-3457-4bd5-8f53-7476d17a891f",
   "metadata": {},
   "source": [
    "# MDSを理解するためのノートブック"
   ]
  },
  {
   "cell_type": "code",
   "execution_count": null,
   "id": "7f77271b-cdd3-4021-88b2-c791da530bfe",
   "metadata": {},
   "outputs": [],
   "source": [
    "# ライブラリのインポート\n",
    "import numpy as np\n",
    "import matplotlib.pyplot as plt\n",
    "from ipywidgets import interact, IntSlider\n",
    "from sklearn.datasets import make_blobs\n",
    "from scipy.spatial.distance import pdist, squareform\n",
    "from sklearn.manifold import MDS"
   ]
  },
  {
   "cell_type": "code",
   "execution_count": null,
   "id": "4c073215-7062-4954-8472-2fa1a3714fb6",
   "metadata": {},
   "outputs": [],
   "source": [
    "# データセットの生成\n",
    "X, y = make_blobs(n_samples=400, n_features=3, centers=4, random_state=42, cluster_std=3)\n",
    "\n",
    "# 3Dプロットのインタラクティブ表示\n",
    "def plot_3d(elev=30, azim=30):\n",
    "    fig = plt.figure(figsize=(10, 8))\n",
    "    ax = fig.add_subplot(111, projection='3d')\n",
    "    ax.scatter(X[:, 0], X[:, 1], X[:, 2], c=y, cmap='viridis')\n",
    "    ax.set_title(\"Original Data in 3D\")\n",
    "    ax.set_xlabel(\"Feature 1\")\n",
    "    ax.set_ylabel(\"Feature 2\")\n",
    "    ax.set_zlabel(\"Feature 3\")\n",
    "    ax.view_init(elev=elev, azim=azim)\n",
    "    plt.show()\n",
    "\n",
    "# ウィジェットを用いたインタラクティブプロット\n",
    "interact(plot_3d, elev=IntSlider(min=-180, max=180, step=10, value=30), azim=IntSlider(min=-180, max=180, step=10, value=30))"
   ]
  },
  {
   "cell_type": "code",
   "execution_count": null,
   "id": "912846bc-9a37-4232-a690-a0b3962bd91b",
   "metadata": {},
   "outputs": [],
   "source": [
    "# データ間の距離を計算\n",
    "distances = pdist(X, 'euclidean')\n",
    "\n",
    "# 距離のヒストグラムをプロット\n",
    "plt.figure(figsize=(10, 6))\n",
    "plt.hist(distances, bins=50, alpha=0.75, color='blue')\n",
    "plt.title(\"Distribution of Pairwise Distances in 3D Data\")\n",
    "plt.xlabel(\"Distance\")\n",
    "plt.ylabel(\"Frequency\")\n",
    "plt.grid(True)\n",
    "plt.show()"
   ]
  },
  {
   "cell_type": "code",
   "execution_count": null,
   "id": "b637a181-3955-40cf-8e50-93810fda8276",
   "metadata": {},
   "outputs": [],
   "source": [
    "# MDSの適用\n",
    "plt.figure(figsize=(5, 4))\n",
    "X_mds = MDS(n_components=2, random_state=42, normalized_stress='auto').fit_transform(X)\n",
    "plt.scatter(X_mds[:, 0], X_mds[:, 1], c=y)\n",
    "plt.title(f\"MDS\")\n",
    "plt.tight_layout()\n",
    "plt.show()"
   ]
  },
  {
   "cell_type": "code",
   "execution_count": null,
   "id": "d51363b0-9767-4088-b34a-fce34240cd67",
   "metadata": {},
   "outputs": [],
   "source": [
    "from scipy.spatial.distance import pdist, squareform\n",
    "\n",
    "plt.figure(figsize=(5, 4))\n",
    "\n",
    "# 元のデータの距離行列\n",
    "distances_original = squareform(pdist(X))\n",
    "\n",
    "X_r = MDS(n_components=2, random_state=42, normalized_stress='auto').fit_transform(X)\n",
    "distances = squareform(pdist(X_r))\n",
    "\n",
    "# プロット\n",
    "plt.scatter(distances_original.flatten(), distances.flatten(), alpha=0.05, s=0.1)\n",
    "plt.title(f\"MDS\")\n",
    "plt.xlabel(\"Original Distances\")\n",
    "plt.ylabel(\"MDS Distances\")\n",
    "plt.grid(True)\n",
    "\n",
    "plt.tight_layout()\n",
    "plt.show()"
   ]
  },
  {
   "cell_type": "code",
   "execution_count": null,
   "id": "bb5db575-bbf1-48ab-b045-39fd61ff5d03",
   "metadata": {},
   "outputs": [],
   "source": []
  }
 ],
 "metadata": {
  "kernelspec": {
   "display_name": "Python 3 (ipykernel)",
   "language": "python",
   "name": "python3"
  },
  "language_info": {
   "codemirror_mode": {
    "name": "ipython",
    "version": 3
   },
   "file_extension": ".py",
   "mimetype": "text/x-python",
   "name": "python",
   "nbconvert_exporter": "python",
   "pygments_lexer": "ipython3",
   "version": "3.11.8"
  }
 },
 "nbformat": 4,
 "nbformat_minor": 5
}
