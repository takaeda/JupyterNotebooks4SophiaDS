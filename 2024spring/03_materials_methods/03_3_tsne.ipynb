{
 "cells": [
  {
   "cell_type": "markdown",
   "id": "a2075575-3457-4bd5-8f53-7476d17a891f",
   "metadata": {},
   "source": [
    "# t-SNEを理解するためのノートブック"
   ]
  },
  {
   "cell_type": "code",
   "execution_count": null,
   "id": "f5151927-597d-4c92-b214-033e0928513f",
   "metadata": {},
   "outputs": [],
   "source": [
    "# ライブラリのインポート\n",
    "import numpy as np\n",
    "import matplotlib.pyplot as plt\n",
    "from ipywidgets import interact, IntSlider\n",
    "from sklearn.datasets import make_blobs\n",
    "from scipy.spatial.distance import pdist, squareform\n",
    "from sklearn.manifold import TSNE"
   ]
  },
  {
   "cell_type": "code",
   "execution_count": null,
   "id": "af0363ef-3a33-49e8-b282-4634bfdb4552",
   "metadata": {},
   "outputs": [],
   "source": [
    "# データセットの生成\n",
    "X, y = make_blobs(n_samples=400, n_features=3, centers=4, random_state=42, cluster_std=3)\n",
    "\n",
    "# 3Dプロットのインタラクティブ表示\n",
    "def plot_3d(elev=30, azim=30):\n",
    "    fig = plt.figure(figsize=(10, 8))\n",
    "    ax = fig.add_subplot(111, projection='3d')\n",
    "    ax.scatter(X[:, 0], X[:, 1], X[:, 2], c=y, cmap='viridis')\n",
    "    ax.set_title(\"Original Data in 3D\")\n",
    "    ax.set_xlabel(\"Feature 1\")\n",
    "    ax.set_ylabel(\"Feature 2\")\n",
    "    ax.set_zlabel(\"Feature 3\")\n",
    "    ax.view_init(elev=elev, azim=azim)\n",
    "    plt.show()\n",
    "\n",
    "# ウィジェットを用いたインタラクティブプロット\n",
    "interact(plot_3d, elev=IntSlider(min=-180, max=180, step=10, value=30), azim=IntSlider(min=-180, max=180, step=10, value=30))"
   ]
  },
  {
   "cell_type": "code",
   "execution_count": null,
   "id": "622bdf95-2c0b-460b-9a73-1513f7bd6f4b",
   "metadata": {},
   "outputs": [],
   "source": [
    "# データ間の距離を計算\n",
    "distances = pdist(X, 'euclidean')\n",
    "\n",
    "# 距離のヒストグラムをプロット\n",
    "plt.figure(figsize=(10, 6))\n",
    "plt.hist(distances, bins=50, alpha=0.75, color='blue')\n",
    "plt.title(\"Distribution of Pairwise Distances in 3D Data\")\n",
    "plt.xlabel(\"Distance\")\n",
    "plt.ylabel(\"Frequency\")\n",
    "plt.grid(True)\n",
    "plt.show()"
   ]
  },
  {
   "cell_type": "code",
   "execution_count": null,
   "id": "b637a181-3955-40cf-8e50-93810fda8276",
   "metadata": {},
   "outputs": [],
   "source": [
    "# t-SNEの適用\n",
    "def apply_tsne(X, perplexity=30):\n",
    "    tsne = TSNE(n_components=2, perplexity=perplexity, random_state=42)\n",
    "    X_tsne = tsne.fit_transform(X)\n",
    "    return X_tsne\n",
    "\n",
    "# パープレキシティ値を変更しながらプロット\n",
    "perplexities = [5, 30, 50, 100]\n",
    "plt.figure(figsize=(10, 8))\n",
    "for i, perplexity in enumerate(perplexities):\n",
    "    X_tsne = apply_tsne(X, perplexity)\n",
    "    plt.subplot(2, 2, i+1)\n",
    "    plt.scatter(X_tsne[:, 0], X_tsne[:, 1], c=y)\n",
    "    plt.title(f\"t-SNE with Perplexity={perplexity}\")\n",
    "plt.tight_layout()\n",
    "plt.show()\n"
   ]
  },
  {
   "cell_type": "code",
   "execution_count": null,
   "id": "6536bd29-7756-4742-893e-ef6aeff2f865",
   "metadata": {},
   "outputs": [],
   "source": [
    "from scipy.spatial.distance import pdist, squareform\n",
    "\n",
    "# パープレキシティ値を変更しながらプロット\n",
    "perplexities = [5, 30, 50, 100]\n",
    "plt.figure(figsize=(10, 8))\n",
    "\n",
    "# 元のデータの距離行列\n",
    "distances_original = squareform(pdist(X))\n",
    "\n",
    "for i, perplexity in enumerate(perplexities):\n",
    "    X_r = apply_tsne(X, perplexity)\n",
    "    distances = squareform(pdist(X_r))\n",
    "\n",
    "    # プロット\n",
    "    plt.subplot(2, 2, i+1)\n",
    "    plt.scatter(distances_original.flatten(), distances.flatten(), alpha=0.05, s=0.1)\n",
    "    plt.title(f\"Distances: t-SNE Perplexity={perplexity}\")\n",
    "    plt.xlabel(\"Original Distances\")\n",
    "    plt.ylabel(\"t-SNE Distances\")\n",
    "#    plt.axis('equal')\n",
    "    plt.grid(True)\n",
    "\n",
    "plt.tight_layout()\n",
    "plt.show()"
   ]
  },
  {
   "cell_type": "code",
   "execution_count": null,
   "id": "a44942c1-75f6-4a1b-988a-8990da082b5d",
   "metadata": {},
   "outputs": [],
   "source": []
  }
 ],
 "metadata": {
  "kernelspec": {
   "display_name": "Python 3 (ipykernel)",
   "language": "python",
   "name": "python3"
  },
  "language_info": {
   "codemirror_mode": {
    "name": "ipython",
    "version": 3
   },
   "file_extension": ".py",
   "mimetype": "text/x-python",
   "name": "python",
   "nbconvert_exporter": "python",
   "pygments_lexer": "ipython3",
   "version": "3.11.8"
  }
 },
 "nbformat": 4,
 "nbformat_minor": 5
}
