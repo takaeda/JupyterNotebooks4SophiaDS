{
 "cells": [
  {
   "cell_type": "code",
   "execution_count": null,
   "id": "9f88bd47-0e16-4fde-b1d4-a6c02b967df2",
   "metadata": {},
   "outputs": [],
   "source": [
    "from openai import OpenAI\n",
    "import numpy as np\n",
    "\n",
    "# OpenAIクライアントの初期化\n",
    "client = OpenAI(api_key='[set the effective key here]',)\n",
    "\n",
    "# 埋め込みを取得する関数\n",
    "def get_embedding(text, model=\"text-embedding-3-small\"):\n",
    "    text = text.replace(\"\\n\", \" \")  # 改行をスペースに置換\n",
    "    response = client.embeddings.create(input=[text], model=model)\n",
    "    return response.data[0].embedding\n",
    "\n",
    "# サンプルデータセットの定義\n",
    "documents = [\n",
    "    \"ディープラーニングは人工知能の一機能です\",\n",
    "    \"人工知能と機械学習はコンピュータサイエンスの一部です\",\n",
    "    \"ディープラーニングはほとんどのAIアプリケーションで使用されています\"\n",
    "]\n",
    "\n",
    "# 各文書の埋め込みベクトルを取得\n",
    "document_embeddings = [get_embedding(doc) for doc in documents]\n",
    "\n",
    "# 新しいクエリ文書の定義\n",
    "query = \"AIとディープラーニング\"\n",
    "query_embedding = get_embedding(query)\n",
    "\n",
    "# コサイン類似度の計算関数\n",
    "def cosine_similarity(a, b):\n",
    "    return np.dot(a, b) / (np.linalg.norm(a) * np.linalg.norm(b))\n",
    "\n",
    "# クエリと各文書の類似度を計算\n",
    "similarities = []\n",
    "for i, doc_emb in enumerate(document_embeddings):\n",
    "    similarity = cosine_similarity(doc_emb, query_embedding)\n",
    "    similarities.append((i, similarity))\n",
    "\n",
    "# 類似度に基づいて文書をソート\n",
    "similarities.sort(key=lambda x: x[1], reverse=True)\n",
    "\n",
    "# 出力\n",
    "for i, doc in enumerate(documents):\n",
    "    print(f\"対象文書{i}: {doc}\")\n",
    "\n",
    "print(f\"クエリ文書: {query}\\n\")\n",
    "print(\"==============================================================\")\n",
    "print(\"対象文書ベクトルとその次元数:\")\n",
    "for i, emb in enumerate(document_embeddings):\n",
    "    print(f\"Document {i}: Vector length: {len(emb)}\")  # ベクトルの次元数を表示\n",
    "\n",
    "print(\"\\nクエリベクトルとその次元数:\")\n",
    "print(f\"Query Vector length: {len(query_embedding)}\")  # クエリベクトルの次元数を表示\n",
    "\n",
    "print(\"\\n類似文書とその類似度:\")\n",
    "for doc_id, sim in similarities:\n",
    "    print(f\"文書 {doc_id}: {documents[doc_id]}, 類似度: {sim:.4f}\")"
   ]
  }
 ],
 "metadata": {
  "kernelspec": {
   "display_name": "Python 3 (ipykernel)",
   "language": "python",
   "name": "python3"
  },
  "language_info": {
   "codemirror_mode": {
    "name": "ipython",
    "version": 3
   },
   "file_extension": ".py",
   "mimetype": "text/x-python",
   "name": "python",
   "nbconvert_exporter": "python",
   "pygments_lexer": "ipython3",
   "version": "3.12.3"
  }
 },
 "nbformat": 4,
 "nbformat_minor": 5
}
