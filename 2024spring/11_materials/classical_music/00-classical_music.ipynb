{
 "cells": [
  {
   "cell_type": "markdown",
   "id": "1928c389-43f1-4fef-b2c7-544b3f199266",
   "metadata": {},
   "source": [
    "# クラシック音楽データの解析\n",
    "\n",
    "- Beethoven Sym.9 歓喜の歌、第一主題: ベートーベンといえば\n",
    "- Morzart Sym.40: みんな大好きモーツァルト\n",
    "- Brahms Sym.1 IV 第一主題: ベートーベンと本当に似ているか？\n",
    "- Bruckner Sym.8 IV: ブルックナーの神曲のポジショニングは？\n",
    "\n",
    "## 比較: ロックの代表曲 \n",
    "  - Deep Purple: Smoke on the Water: クラシック音楽とどれくらい違うのか？"
   ]
  },
  {
   "cell_type": "code",
   "execution_count": null,
   "id": "210e5bb1-2823-4428-ba19-3e1e7dad5a29",
   "metadata": {
    "tags": []
   },
   "outputs": [],
   "source": [
    "import toorpia.utils as toorpia"
   ]
  },
  {
   "cell_type": "code",
   "execution_count": null,
   "id": "8e111d71-07b7-4ce3-8f82-6d996f4efc36",
   "metadata": {},
   "outputs": [],
   "source": [
    "toorpia.edit_params()"
   ]
  },
  {
   "cell_type": "code",
   "execution_count": null,
   "id": "fc3f5c3e-32ff-4ffb-8890-d458debc4f9b",
   "metadata": {},
   "outputs": [],
   "source": [
    "x, y = toorpia.create_basemap()"
   ]
  },
  {
   "cell_type": "code",
   "execution_count": null,
   "id": "934d0e82-fa90-4f04-b4e2-28b07ef51323",
   "metadata": {},
   "outputs": [],
   "source": [
    "toorpia.edit_params()"
   ]
  },
  {
   "cell_type": "code",
   "execution_count": null,
   "id": "3a74f3ed-ddf7-4504-9e9b-e434f77fccc8",
   "metadata": {},
   "outputs": [],
   "source": [
    "xadd, yadd = toorpia.addplot()"
   ]
  }
 ],
 "metadata": {
  "kernelspec": {
   "display_name": "Python 3 (ipykernel)",
   "language": "python",
   "name": "python3"
  },
  "language_info": {
   "codemirror_mode": {
    "name": "ipython",
    "version": 3
   },
   "file_extension": ".py",
   "mimetype": "text/x-python",
   "name": "python",
   "nbconvert_exporter": "python",
   "pygments_lexer": "ipython3",
   "version": "3.12.3"
  }
 },
 "nbformat": 4,
 "nbformat_minor": 5
}
