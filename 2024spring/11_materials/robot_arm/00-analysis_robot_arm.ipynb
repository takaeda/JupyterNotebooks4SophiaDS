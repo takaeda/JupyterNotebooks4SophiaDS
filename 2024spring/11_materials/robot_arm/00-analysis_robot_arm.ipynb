{
 "cells": [
  {
   "cell_type": "code",
   "execution_count": null,
   "id": "fe16edb0-ddaf-4846-94c2-1d93580bc802",
   "metadata": {},
   "outputs": [],
   "source": [
    "import toorpia.utils as toorpia\n",
    "import pylab as pl"
   ]
  },
  {
   "cell_type": "code",
   "execution_count": null,
   "id": "97676de9-bc87-4749-9c68-2ee13b90cf38",
   "metadata": {},
   "outputs": [],
   "source": [
    "params = {\n",
    "    'rawdata': 'robot_arm.wav',\n",
    "    'sampling_rate': 48000,\n",
    "    'window_length': 8192,\n",
    "    'working_dir': 'analysis',\n",
    "    'high_pass_filter': 200,\n",
    "    'low_pass_filter': 20000,\n",
    "    'map_inspector': False,\n",
    "    'window_function': 'hanning',\n",
    "}\n",
    "x, y = toorpia.create_basemap(params)\n",
    "\n",
    "pl.figure(figsize = (6,6))\n",
    "pl.xlim(-0.5, 0.5)\n",
    "pl.ylim(-0.5, 0.5)\n",
    "pl.scatter(x, y, s=2)"
   ]
  },
  {
   "cell_type": "code",
   "execution_count": null,
   "id": "180e44eb-ea83-4f80-8f18-0ef7ace88d0c",
   "metadata": {},
   "outputs": [],
   "source": [
    "params['add_rawdata'] = 'robot_arm-part0.wav'\n",
    "xadd0, yadd0 = toorpia.addplot(params)\n",
    "params['add_rawdata'] = 'robot_arm-part1.wav'\n",
    "xadd1, yadd1 = toorpia.addplot(params)\n",
    "params['add_rawdata'] = 'robot_arm-part2.wav'\n",
    "xadd2, yadd2 = toorpia.addplot(params)\n",
    "\n",
    "pl.figure(figsize = (6,6))\n",
    "pl.xlim(-0.5, 0.5)\n",
    "pl.ylim(-0.5, 0.5)\n",
    "pl.scatter(x, y, s=1, label=\"basemap\", c='gray')\n",
    "pl.scatter(xadd0, yadd0, s=20, label=\"part 0\", c='cyan')\n",
    "pl.scatter(xadd1, yadd1, s=20, label=\"part 1\", c='magenta')\n",
    "pl.scatter(xadd2, yadd2, s=20, label=\"part 2\", c='yellow')\n",
    "pl.legend()"
   ]
  }
 ],
 "metadata": {
  "kernelspec": {
   "display_name": "Python 3 (ipykernel)",
   "language": "python",
   "name": "python3"
  },
  "language_info": {
   "codemirror_mode": {
    "name": "ipython",
    "version": 3
   },
   "file_extension": ".py",
   "mimetype": "text/x-python",
   "name": "python",
   "nbconvert_exporter": "python",
   "pygments_lexer": "ipython3",
   "version": "3.12.3"
  }
 },
 "nbformat": 4,
 "nbformat_minor": 5
}
