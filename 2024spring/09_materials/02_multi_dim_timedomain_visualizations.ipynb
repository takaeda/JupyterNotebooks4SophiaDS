{
 "cells": [
  {
   "cell_type": "markdown",
   "id": "10436946-e1b9-4872-a1e2-6b67ec5ea7c5",
   "metadata": {},
   "source": [
    "## 多次元ランダムウォークデータを生成"
   ]
  },
  {
   "cell_type": "code",
   "execution_count": null,
   "id": "a15cde7b-5686-4756-8b02-788e977b2207",
   "metadata": {
    "tags": []
   },
   "outputs": [],
   "source": [
    "def generate_nd_random_walk(n, time_points=500, step_size=0.001, seed=42):\n",
    "    import numpy as np\n",
    "    import pandas as pd\n",
    "\n",
    "    if seed is not None:\n",
    "        np.random.seed(seed)\n",
    "\n",
    "    # Initialize the data array with zeros\n",
    "    data = np.zeros((time_points, n))\n",
    "    # Initialize a small random value for each dimension\n",
    "    data[0] = np.random.uniform(-step_size, step_size, n)\n",
    "\n",
    "    for t in range(1, time_points):\n",
    "        # Copy the previous position\n",
    "        data[t] = data[t - 1]\n",
    "\n",
    "        # Apply a small random change to each dimension for smoothness\n",
    "        changes = np.random.uniform(-step_size, step_size, n)\n",
    "        data[t] += changes\n",
    "\n",
    "    # Creating the DataFrame\n",
    "    column_names = ['v' + str(i) for i in range(1, n + 1)]\n",
    "    return pd.DataFrame(data, columns=column_names, index=np.arange(time_points))"
   ]
  },
  {
   "cell_type": "markdown",
   "id": "54eb8a70-f74b-477f-9323-23698bbbe84f",
   "metadata": {},
   "source": [
    "## 多次元データの可視化\n",
    "\n",
    "主成分分析（PCA）、t-SNE、PaCMAP、およびtoorPIAを使用して多次元時系列データを2次元に可視化する"
   ]
  },
  {
   "cell_type": "code",
   "execution_count": null,
   "id": "32c202e0-56e7-47f3-a58d-d15d3b6b66d1",
   "metadata": {
    "tags": []
   },
   "outputs": [],
   "source": [
    "def visualize_nd_data(time_series_data_nd):\n",
    "    import matplotlib.pyplot as plt\n",
    "    from sklearn.decomposition import PCA\n",
    "    from sklearn.manifold import TSNE\n",
    "    import umap\n",
    "    import pacmap\n",
    "    import toorpia.utils as toorpia\n",
    "    import numpy as np\n",
    "    import time\n",
    "    from sklearn.preprocessing import StandardScaler\n",
    "\n",
    "    # Normalize the n-dimensional data\n",
    "    scaler = StandardScaler()\n",
    "    X_nd_normalized = scaler.fit_transform(time_series_data_nd.values)\n",
    "\n",
    "    # Generate a color map\n",
    "    cmap = plt.cm.viridis\n",
    "    colors = cmap(np.linspace(0, 1, len(X_nd_normalized)))\n",
    "\n",
    "    # Measure analysis time for PCA\n",
    "    start_time = time.time()\n",
    "    pca_nd = PCA(n_components=2)\n",
    "    X_pca_nd = pca_nd.fit_transform(X_nd_normalized)\n",
    "    pca_time = time.time() - start_time\n",
    "\n",
    "    # Measure analysis time for t-SNE\n",
    "    start_time = time.time()\n",
    "    tsne_nd = TSNE(n_components=2, random_state=42)\n",
    "    X_tsne_nd = tsne_nd.fit_transform(X_nd_normalized)\n",
    "    tsne_time = time.time() - start_time\n",
    "\n",
    "    # Measure analysis time for UMAP\n",
    "    #start_time = time.time()\n",
    "    #umap_model_nd = umap.UMAP(n_components=2, random_state=42)\n",
    "    #X_umap_nd = umap_model_nd.fit_transform(X_nd_normalized)\n",
    "    #umap_time = time.time() - start_time\n",
    "\n",
    "    # PaCMAPの実行と時間測定\n",
    "    start_time = time.time()\n",
    "    pacmap_instance = pacmap.PaCMAP(n_components=2)\n",
    "    X_pacmap_nd = pacmap_instance.fit_transform(X_nd_normalized)\n",
    "    pacmap_time = time.time() - start_time\n",
    "\n",
    "    # Measure analysis time for toorPIA\n",
    "    start_time = time.time()\n",
    "    X_toorpia_nd = toorpia.fit_transform(X_nd_normalized)\n",
    "    toorpia_time = time.time() - start_time\n",
    "\n",
    "    # Print analysis times\n",
    "    print(f'PCA analysis time: {pca_time:.2f} seconds')\n",
    "    print(f't-SNE analysis time: {tsne_time:.2f} seconds')\n",
    "    #print(f'UMAP analysis time: {umap_time:.2f} seconds')\n",
    "    print(f'PaCMAP analysis time: {pacmap_time:.2f} seconds')\n",
    "    print(f'toorPIA analysis time: {toorpia_time:.2f} seconds')\n",
    "\n",
    "    # Plotting\n",
    "    fig, axes = plt.subplots(1, 4, figsize=(24, 5))\n",
    "\n",
    "    # Function to create a line and point plot with color gradient\n",
    "    def line_point_plot_with_gradient(ax, data, colors):\n",
    "        for i in range(len(data) - 1):\n",
    "            ax.plot(data[i:i+2, 0], data[i:i+2, 1], color=colors[i], linewidth=0.0, marker='o', markersize=1)\n",
    "\n",
    "    # PCA plot\n",
    "    line_point_plot_with_gradient(axes[0], X_pca_nd, colors)\n",
    "    axes[0].set_title('PCA Projection ({}D)'.format(X_nd_normalized.shape[1]))\n",
    "\n",
    "    # t-SNE plot\n",
    "    line_point_plot_with_gradient(axes[1], X_tsne_nd, colors)\n",
    "    axes[1].set_title('t-SNE Projection ({}D)'.format(X_nd_normalized.shape[1]))\n",
    "\n",
    "    # UMAP plot\n",
    "    #line_point_plot_with_gradient(axes[2], X_umap_nd, colors)\n",
    "    #axes[2].set_title('UMAP Projection ({}D)'.format(X_nd_normalized.shape[1]))\n",
    "    #axes[2].set_xlabel('Component 1')\n",
    "    #axes[2].set_ylabel('Component 2')\n",
    "\n",
    "    # PaCMAPプロット\n",
    "    line_point_plot_with_gradient(axes[2], X_pacmap_nd, colors)\n",
    "    axes[2].set_title('PaCMAP Projection ({}D)'.format(X_nd_normalized.shape[1]))\n",
    "\n",
    "    # toorPIA plot\n",
    "    line_point_plot_with_gradient(axes[3], X_toorpia_nd, colors)\n",
    "    axes[3].set_title('toorPIA Map ({}D)'.format(X_nd_normalized.shape[1]))\n",
    "\n",
    "    plt.show()\n"
   ]
  },
  {
   "cell_type": "markdown",
   "id": "e0b9d28b-f1ea-40e3-8504-1c68bfbaec64",
   "metadata": {},
   "source": [
    "## 多次元ランダムウォークデータを複数系列生成しそれらを結合"
   ]
  },
  {
   "cell_type": "code",
   "execution_count": null,
   "id": "485d3fb3-9552-4cae-8adb-0ea8ad5d2285",
   "metadata": {
    "tags": []
   },
   "outputs": [],
   "source": [
    "import pandas as pd\n",
    "import numpy as np\n",
    "\n",
    "# Generate the data\n",
    "ndim = 100\n",
    "data_points = 500\n",
    "data1 = generate_nd_random_walk(n=ndim, time_points=data_points, seed=41)\n",
    "data2 = generate_nd_random_walk(n=ndim, time_points=data_points, seed=42)\n",
    "data3 = generate_nd_random_walk(n=ndim, time_points=data_points, seed=43)\n",
    "data4 = generate_nd_random_walk(n=ndim, time_points=data_points, seed=44)\n",
    "data5 = generate_nd_random_walk(n=ndim, time_points=data_points, seed=45)\n",
    "data6 = generate_nd_random_walk(n=ndim, time_points=data_points, seed=46)\n",
    "data7 = generate_nd_random_walk(n=ndim, time_points=data_points, seed=47)\n",
    "data8 = generate_nd_random_walk(n=ndim, time_points=data_points, seed=48)\n",
    "\n",
    "# Combine the datasets\n",
    "combined_data = pd.concat([data1, data2, data3, data4, data5, data6, data7, data8])"
   ]
  },
  {
   "cell_type": "markdown",
   "id": "b0176ee2-1064-483d-8df3-b09b2997ffb5",
   "metadata": {},
   "source": [
    "## 各種手法で解析して結果の表示\n",
    "\n",
    "(処理の途中でwarningがでますが無視してください。)"
   ]
  },
  {
   "cell_type": "code",
   "execution_count": null,
   "id": "1415bee1-8624-4b68-a2d3-f8b575ea7035",
   "metadata": {
    "tags": []
   },
   "outputs": [],
   "source": [
    "visualize_nd_data(combined_data)"
   ]
  },
  {
   "cell_type": "markdown",
   "id": "7d6c64af-e679-4fc3-923a-38192ab75c99",
   "metadata": {},
   "source": [
    "## 結果の解説\n",
    "\n",
    "上の解析は、高次元空間において原点をスタートポイントとする酔歩（ランダムウォーク）過程の時系列を8本生成し、各種次元削減ツールによってそれらがどのように2次元上で表現されるかを比較したものである。\n",
    "（これは、製造プロセスなどで発生する「時系列データ」の解析能力をテストするためのものである。）\n",
    "\n",
    "高次元空間中を進む酔歩には次の特徴がある。\n",
    "\n",
    "- 酔歩は局所的にランダムに飛躍して（千鳥足のように）進む確率過程なので、局所構造としてノコギリ状の構造が表現できなければならない。\n",
    "- 高次元空間では、原点からスタートする異なる8系列の酔歩の終点は、時間経過とともに互いに徐々に離れていく傾向にある。この状況を2次元マップ上で表現するには、8本の系列を原点を中心に放射状に配置するのが最適と言える。（なお、各系列が互いに離れていくという性質は、高次元空間では方向の自由度が大きいことから、異なる系列の酔歩が同じ方向に向かう確率が極めて小さくなることによるものである。）\n",
    "\n",
    "** 以上の2点を両方表現できる手法は少ない **\n",
    "\n",
    "- PCAは局所構造のみ正しく表現されている。しかし、大規模構造は、8本の系列のうち一部の系列しか区別することができていない。\n",
    "- t-SNE, PaCMAPについては、局所構造と大規模構造の両方とも適切に表現できていない。また、系列が途中で切断されたり、他の系列と交差するなど、これらの手法が線状クラスタ（時系列データを含む）を正確に表現することができないことが分かる。"
   ]
  }
 ],
 "metadata": {
  "kernelspec": {
   "display_name": "Python 3 (ipykernel)",
   "language": "python",
   "name": "python3"
  },
  "language_info": {
   "codemirror_mode": {
    "name": "ipython",
    "version": 3
   },
   "file_extension": ".py",
   "mimetype": "text/x-python",
   "name": "python",
   "nbconvert_exporter": "python",
   "pygments_lexer": "ipython3",
   "version": "3.12.3"
  }
 },
 "nbformat": 4,
 "nbformat_minor": 5
}
