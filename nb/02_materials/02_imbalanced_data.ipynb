{
 "cells": [
  {
   "cell_type": "markdown",
   "id": "de7d53f6-0637-46b5-b06c-e8e7b977c360",
   "metadata": {},
   "source": [
    "# 不均衡データ問題\n",
    "\n",
    "母集団数に対して非常に少数の分類が含まれているとき、それを識別できない問題。"
   ]
  },
  {
   "cell_type": "code",
   "execution_count": null,
   "id": "a515cfc0-2ae0-46fd-92da-1b41f48900ef",
   "metadata": {
    "tags": []
   },
   "outputs": [],
   "source": [
    "# 必要なライブラリのインポート\n",
    "import numpy as np\n",
    "import matplotlib.pyplot as plt\n",
    "from sklearn.datasets import make_blobs\n",
    "\n",
    "# データの生成 (3クラスの不均衡データ)\n",
    "features, labels = make_blobs(n_samples=[500, 500, 3], centers=[[1, 1, 1], [0, 0, 0], [1, 1, 5]], random_state=42, n_features=3, cluster_std=0.1)\n",
    "\n",
    "# 3Dプロットの作成\n",
    "fig = plt.figure(figsize=(10, 7))\n",
    "ax = fig.add_subplot(111, projection='3d')\n",
    "\n",
    "# 各クラスのデータをプロット\n",
    "ax.scatter(features[labels == 0][:, 0], features[labels == 0][:, 1], features[labels == 0][:, 2], label='Class 0', alpha=0.6)\n",
    "ax.scatter(features[labels == 1][:, 0], features[labels == 1][:, 1], features[labels == 1][:, 2], label='Class 1', alpha=0.6)\n",
    "ax.scatter(features[labels == 2][:, 0], features[labels == 2][:, 1], features[labels == 2][:, 2], label='Class 2', alpha=0.6)\n",
    "\n",
    "ax.set_title('3D Imbalanced Data')\n",
    "ax.legend()\n",
    "\n",
    "plt.show()\n"
   ]
  },
  {
   "cell_type": "markdown",
   "id": "89ac390f-f57a-407c-8818-36aaa800029b",
   "metadata": {},
   "source": [
    "上の図からも、class=2がclass=0やclass=1に対して数が非常に少ないことがわかる。\n",
    "\n",
    "以下では、PCAなどの解析ツールによって、このマイナー分類がしっかり分離できるかどうかを確認する。"
   ]
  },
  {
   "cell_type": "code",
   "execution_count": null,
   "id": "8ff132bf-e794-414a-8103-963cb3203fe0",
   "metadata": {
    "tags": []
   },
   "outputs": [],
   "source": [
    "import numpy as np\n",
    "import matplotlib.pyplot as plt\n",
    "from sklearn.datasets import make_blobs\n",
    "from sklearn.decomposition import PCA\n",
    "from sklearn.manifold import MDS, TSNE\n",
    "from umap import UMAP\n",
    "\n",
    "methods = ['PCA', 'MDS', 't-SNE', 'UMAP']\n",
    "datasets = []\n",
    "\n",
    "# PCA\n",
    "datasets.append(PCA(n_components=2).fit_transform(features))\n",
    "\n",
    "# MDS\n",
    "datasets.append(MDS(n_components=2, random_state=42, normalized_stress='auto').fit_transform(features))\n",
    "\n",
    "# t-SNE\n",
    "datasets.append(TSNE(n_components=2, random_state=42).fit_transform(features))\n",
    "\n",
    "# UMAP\n",
    "datasets.append(UMAP(n_components=2, random_state=42, n_jobs=1).fit_transform(features))\n",
    "\n",
    "# 可視化\n",
    "fig, axs = plt.subplots(2, 2, figsize=(10, 10))  # 正方形のサブプロットを生成\n",
    "axs = axs.ravel()\n",
    "\n",
    "for i, (data, title) in enumerate(zip(datasets, methods)):\n",
    "    axs[i].scatter(data[labels == 0][:, 0], data[labels == 0][:, 1], label='Class 0', alpha=0.6)\n",
    "    axs[i].scatter(data[labels == 1][:, 0], data[labels == 1][:, 1], label='Class 1', alpha=0.6)\n",
    "    axs[i].scatter(data[labels == 2][:, 0], data[labels == 2][:, 1], label='Class 2', alpha=0.6)\n",
    "    axs[i].set_title(title)\n",
    "    axs[i].legend()\n",
    "    \n",
    "    # スケールを揃える\n",
    "    axs[i].set_aspect('equal', 'box')\n",
    "    \n",
    "    # 平行移動してマップを図の中央に配置\n",
    "    x_center = (data[:, 0].min() + data[:, 0].max()) / 2\n",
    "    y_center = (data[:, 1].min() + data[:, 1].max()) / 2\n",
    "    half_range = max(data[:, 0].max() - data[:, 0].min(), data[:, 1].max() - data[:, 1].min()) / 2\n",
    "    axs[i].set_xlim(x_center - 1.5*half_range, x_center + 1.5*half_range)\n",
    "    axs[i].set_ylim(y_center - 1.5*half_range, y_center + 1.5*half_range)\n",
    "\n",
    "plt.tight_layout()\n",
    "plt.show()\n"
   ]
  },
  {
   "cell_type": "markdown",
   "id": "48589e6d-a0b0-408d-baef-a1062ffb33e1",
   "metadata": {},
   "source": [
    "上の結果から、PCAやMDSでは、マイナー分類(class=2)が識別できていることが分かる。\n",
    "一方、t-SNEとUMAPでは、マイナー分類の識別は非常に困難であることが確認できた。\n",
    "\n",
    "同様の問題は、多くの機械学習モデルで生じる。\n",
    "（故障や異常を予測するモデルを構築するときに、正常データに比べて異常データが少ないと、この問題に直面し、適当なモデル構築が不能となる。）"
   ]
  },
  {
   "cell_type": "markdown",
   "id": "56512cd2-e9ec-43d1-b4ac-6c70732e38e9",
   "metadata": {},
   "source": [
    "## こうした「不均衡データ問題」の影響が少ない解析手法による結果"
   ]
  },
  {
   "cell_type": "code",
   "execution_count": null,
   "id": "33e647b6-b26a-4033-b7f8-84deedb068a3",
   "metadata": {
    "tags": []
   },
   "outputs": [],
   "source": [
    "import toorpia.utils as toorpia\n",
    "\n",
    "title = 'toorPIA'\n",
    "# toorPIA\n",
    "data = toorpia.fit_transform(features)\n",
    "\n",
    "# 可視化\n",
    "fig, axs = plt.subplots(1, 1, figsize=(6, 5))\n",
    "\n",
    "axs.scatter(data[labels == 0][:, 0], data[labels == 0][:, 1], label='Class 0', alpha=0.6)\n",
    "axs.scatter(data[labels == 1][:, 0], data[labels == 1][:, 1], label='Class 1', alpha=0.6)\n",
    "axs.scatter(data[labels == 2][:, 0], data[labels == 2][:, 1], label='Class 2', alpha=0.6)\n",
    "axs.set_title(title)\n",
    "axs.legend()\n",
    "\n",
    "axs.set_aspect('equal', 'box')\n",
    "    \n",
    "x_center = (data[:, 0].min() + data[:, 0].max()) / 2\n",
    "y_center = (data[:, 1].min() + data[:, 1].max()) / 2\n",
    "half_range = max(data[:, 0].max() - data[:, 0].min(), data[:, 1].max() - data[:, 1].min()) / 2\n",
    "axs.set_xlim(x_center - 1.5*half_range, x_center + 1.5*half_range)\n",
    "axs.set_ylim(y_center - 1.5*half_range, y_center + 1.5*half_range)\n",
    "\n",
    "plt.show()"
   ]
  }
 ],
 "metadata": {
  "kernelspec": {
   "display_name": "Python 3 (ipykernel)",
   "language": "python",
   "name": "python3"
  },
  "language_info": {
   "codemirror_mode": {
    "name": "ipython",
    "version": 3
   },
   "file_extension": ".py",
   "mimetype": "text/x-python",
   "name": "python",
   "nbconvert_exporter": "python",
   "pygments_lexer": "ipython3",
   "version": "3.11.8"
  }
 },
 "nbformat": 4,
 "nbformat_minor": 5
}
