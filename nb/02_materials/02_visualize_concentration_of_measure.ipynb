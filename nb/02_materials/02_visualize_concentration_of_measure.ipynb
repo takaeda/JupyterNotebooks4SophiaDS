{
 "cells": [
  {
   "cell_type": "markdown",
   "metadata": {},
   "source": [
    "# 高次元空間における球面集中現象(Concentration of Measure)の可視化"
   ]
  },
  {
   "cell_type": "markdown",
   "metadata": {},
   "source": [
    "### 高次元空間においてランダムに生成されたベクトルの長さの分布の可視化\n",
    "\n",
    "授業ではサイコロの目を確率変数として高次元ベクトルを構成した。\n",
    "ここでは、それをさらに一般化するために、サイコロの目の変わりに[-1, 1]の範囲の一様乱数を用いてベクトルを構成した。\n",
    "\n",
    "下のセルを実行することにより、ランダムに生成した1万個のベクトルの長さの分布が高次元になるほど1に収束していく様子を確認することができる。"
   ]
  },
  {
   "cell_type": "code",
   "execution_count": null,
   "metadata": {
    "tags": []
   },
   "outputs": [],
   "source": [
    "import numpy as np\n",
    "import matplotlib.pyplot as plt\n",
    "\n",
    "def sample_and_normalize_point_in_mdim_space(dim, num_samples):\n",
    "    \"\"\"dim次元空間でランダムに点をサンプリングし、原点からの平均距離で正規化\"\"\"\n",
    "    points = [np.random.uniform(-1, 1, dim) for _ in range(num_samples)]\n",
    "    avg_distance = np.mean([np.linalg.norm(p) for p in points])\n",
    "    normalized_points = [p/avg_distance for p in points]\n",
    "    return normalized_points\n",
    "    \n",
    "def visualize_normalized_distance_distribution_in_space(dimensions, num_samples):\n",
    "    \"\"\"指定した次元数の正規化された距離の分布を線で表示\"\"\"\n",
    "    plt.figure(figsize=(10, 6))\n",
    "    for dim in dimensions:\n",
    "        normalized_distances = [np.linalg.norm(p) for p in sample_and_normalize_point_in_mdim_space(dim, num_samples)]\n",
    "        hist, bins = np.histogram(normalized_distances, bins=30, density=True)\n",
    "        bin_centers = (bins[:-1] + bins[1:]) / 2\n",
    "        plt.plot(bin_centers, hist, label=f\"Dimension = {dim}\", alpha=0.7)\n",
    "    \n",
    "    plt.xlabel(\"Distance from Origin to Normalized Random Point\")\n",
    "    plt.ylabel(\"Density\")\n",
    "    plt.title(\"Distribution of normalized distances in different dimensional spaces\")\n",
    "    #plt.xlim(0, 2)\n",
    "    plt.ylim(0,)\n",
    "    plt.legend()\n",
    "    plt.show()\n",
    "\n",
    "# 低次元から高次元におけるランダムに生成したベクトル間の頂点距離の分布を比較\n",
    "visualize_normalized_distance_distribution_in_space([3, 10, 50, 100, 500, 1000], 10000)"
   ]
  },
  {
   "cell_type": "markdown",
   "metadata": {},
   "source": [
    "### 高次元空間での、コサイン類似度の分布を可視化する。\n",
    "\n",
    "上と同じように一様乱数を用いて生成された1万個のベクトルを用い、ベクトル間のコサイン類似度（ベクトルの長さを１に規格化して内積をとることに等しい）の分布がどうなるかを調べてみた。\n",
    "\n",
    "この結果からは、高次元になればなるほど、ランダムに生成されたベクトルどおしが直交する（コサイン類似度が０になる）割合が多いことを示している。\n",
    "すなわち高次元空間では、ランダムに生成したベクトル群は、「互いに似ていない（互いに直交している）」ことを示している。\n",
    "\n",
    "この点については授業で詳しくは述べていないので参考までに。"
   ]
  },
  {
   "cell_type": "code",
   "execution_count": null,
   "metadata": {},
   "outputs": [],
   "source": [
    "import numpy as np\n",
    "import matplotlib.pyplot as plt\n",
    "\n",
    "def sample_point_in_mdim_space(dim):\n",
    "    \"\"\"指定された次元空間でランダムに点をサンプリング\"\"\"\n",
    "    return np.random.uniform(-1, 1, dim)\n",
    "\n",
    "def cosine_similarity(v1, v2):\n",
    "    \"\"\"2つのベクトル間のコサイン類似度を計算\"\"\"\n",
    "    dot_product = np.dot(v1, v2)\n",
    "    norm_v1 = np.linalg.norm(v1)\n",
    "    norm_v2 = np.linalg.norm(v2)\n",
    "    return dot_product / (norm_v1 * norm_v2)\n",
    "\n",
    "def visualize_distance_and_cosine_similarity_distribution(dimensions, num_pairs=1000):\n",
    "    plt.figure(figsize=(10, 6))\n",
    "\n",
    "    # plot for cosine similarity distribution\n",
    "    for dim in dimensions:\n",
    "        similarities = [cosine_similarity(sample_point_in_mdim_space(dim), sample_point_in_mdim_space(dim)) for _ in range(num_pairs)]\n",
    "        hist, bins = np.histogram(similarities, bins=20, density=True)\n",
    "        bin_centers = (bins[:-1] + bins[1:]) / 2\n",
    "        plt.plot(bin_centers, hist, label=f\"Dimension = {dim}\", alpha=0.7)\n",
    "    plt.xlabel(\"Cosine similarity between two random points\")\n",
    "    plt.ylabel(\"Density\")\n",
    "    plt.title(\"Distribution of cosine similarities in different dimensions\")\n",
    "    plt.legend()\n",
    "\n",
    "    plt.show()\n",
    "\n",
    "# 低次元から高次元におけるランダムに生成したベクトル間のコサイン類似度の分布を比較\n",
    "visualize_distance_and_cosine_similarity_distribution([3, 10, 50, 100, 500, 1000], 10000)"
   ]
  },
  {
   "cell_type": "markdown",
   "metadata": {},
   "source": [
    "## 中心極限定理 (参考)\n",
    "\n",
    "授業では、球面集中現象は中心局限定理（または大数の法則）で説明可能と述べた。\n",
    "\n",
    "中心極限定理は、独立な確率変数（サイコロの目や一様乱数など）の和が正規分布に近づくというものである。\n",
    "その様子を次のセルで確認することができる。\n",
    "\n",
    "球面集中現象も、その背景には、この中心極限定理が効いている。"
   ]
  },
  {
   "cell_type": "code",
   "execution_count": null,
   "metadata": {
    "tags": []
   },
   "outputs": [],
   "source": [
    "import numpy as np\n",
    "import matplotlib.pyplot as plt\n",
    "\n",
    "def plot_normalized_clt_line(samples_list):\n",
    "    \"\"\"[-1, 1]の一様分布からのサンプルの平均で正規化された合計の分布を線でプロットする関数\"\"\"\n",
    "    plt.figure(figsize=(10, 6))\n",
    "    \n",
    "    for num_samples in samples_list:\n",
    "        # [-1, 1]の一様分布からサンプルを取得\n",
    "        normalized_sums = [(np.sum(np.random.uniform(-1, 1, num_samples)) / num_samples) for _ in range(10000)]\n",
    "        \n",
    "        hist, bins = np.histogram(normalized_sums, bins=300, density=True, range=[-1, 1])\n",
    "        bin_centers = (bins[:-1] + bins[1:]) / 2\n",
    "        plt.plot(bin_centers, hist, label=f\"{num_samples} samples\")\n",
    "        \n",
    "    plt.title(\"Distribution of Normalized Sums from Uniform Random Samples in [-1, 1]\")\n",
    "    plt.xlabel(\"Normalized Sum\")\n",
    "    plt.ylabel(\"Density\")\n",
    "    plt.legend()\n",
    "    plt.grid(True, which=\"both\", linestyle=\"--\", linewidth=0.5)\n",
    "    plt.show()\n",
    "\n",
    "# 乱数のサンプル数のリスト\n",
    "samples_list = [1, 2, 10, 50, 100, 1000]\n",
    "plot_normalized_clt_line(samples_list)\n"
   ]
  }
 ],
 "metadata": {
  "kernelspec": {
   "display_name": "Python 3 (ipykernel)",
   "language": "python",
   "name": "python3"
  },
  "language_info": {
   "codemirror_mode": {
    "name": "ipython",
    "version": 3
   },
   "file_extension": ".py",
   "mimetype": "text/x-python",
   "name": "python",
   "nbconvert_exporter": "python",
   "pygments_lexer": "ipython3",
   "version": "3.11.8"
  }
 },
 "nbformat": 4,
 "nbformat_minor": 4
}
