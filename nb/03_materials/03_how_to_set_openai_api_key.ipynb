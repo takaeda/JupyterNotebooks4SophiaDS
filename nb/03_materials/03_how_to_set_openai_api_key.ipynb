{
 "cells": [
  {
   "cell_type": "markdown",
   "id": "cf0a6ff5-4ced-4cd8-a4b5-76654ccc1557",
   "metadata": {},
   "source": [
    "# OpenAI APIの利用準備"
   ]
  },
  {
   "cell_type": "markdown",
   "id": "89e9db3a-8416-4c16-afe4-6d418f13fc35",
   "metadata": {},
   "source": [
    "## OpenAIアカウントの作成\n",
    "\n",
    "まだOpenAIアカウントを持っていない場合は、OpenAIのウェブサイトでアカウントを作成します。\n",
    "\n",
    "## APIキーの生成:\n",
    "\n",
    "アカウントにログインした後、ダッシュボードに移動し、左側のメニューから「APIキー」を選択します。\n",
    "「APIキーを作成」ボタンをクリックし、新しいAPIキーを生成します。APIキーの名前を付け、必要なアクセスレベルを選択し、「キーを作成」ボタンをクリックします。\n",
    "\n",
    "## APIキーの保管:\n",
    "\n",
    "生成されたAPIキーをコピーし、安全な場所に保管します。APIキーは重要な資格情報であるため、他人と共有しないように注意してください。\n",
    "\n",
    "## Jupyter Notebookのセットアップ:\n",
    "\n",
    "Jupyter Notebookを開き、新しいノートを作成します。\n",
    "必要なライブラリをインポートし、APIキーを使ってOpenAIのAPIにアクセスするための準備をします。以下のコードスニペットを参照してください。"
   ]
  },
  {
   "cell_type": "code",
   "execution_count": null,
   "id": "58e93122-5d1a-483a-a20c-513efffd3197",
   "metadata": {
    "tags": []
   },
   "outputs": [],
   "source": [
    "import openai\n",
    "\n",
    "# Replace 'your_api_key_here' with your actual API key\n",
    "api_key = 'your_api_key_here'\n",
    "\n",
    "openai.api_key = api_key"
   ]
  },
  {
   "cell_type": "markdown",
   "id": "6289fba9-7463-439f-9e2e-581024d2a7e1",
   "metadata": {
    "tags": []
   },
   "source": [
    "このコードスニペットは、openaiライブラリをインポートし、APIキーを設定してOpenAIのAPIにアクセスするための基本的な準備を示しています。\n",
    "\n",
    "APIキーは実際のキーに置き換えてください。\n",
    "\n",
    "また、もし手元の環境でこのコードを実行する場合は、openaiライブラリをインストールする必要があります。\n",
    "\n",
    "インストールは、以下のコマンドを実行して行います。\n",
    "\n",
    "なお、「高次元データ実用解析」の実習環境では、すでにOpenAIのAPIライブラリーはインストール済みですので、以下を実行する必要はありません。"
   ]
  },
  {
   "cell_type": "code",
   "execution_count": null,
   "id": "24011e5a-6ea6-4473-ad23-c10440fdedad",
   "metadata": {
    "tags": []
   },
   "outputs": [],
   "source": [
    "!pip install openai"
   ]
  },
  {
   "cell_type": "code",
   "execution_count": null,
   "id": "8814e2bf-24e2-4450-ac79-c7e9805dba0f",
   "metadata": {},
   "outputs": [],
   "source": []
  }
 ],
 "metadata": {
  "kernelspec": {
   "display_name": "Python 3 (ipykernel)",
   "language": "python",
   "name": "python3"
  },
  "language_info": {
   "codemirror_mode": {
    "name": "ipython",
    "version": 3
   },
   "file_extension": ".py",
   "mimetype": "text/x-python",
   "name": "python",
   "nbconvert_exporter": "python",
   "pygments_lexer": "ipython3",
   "version": "3.11.5"
  }
 },
 "nbformat": 4,
 "nbformat_minor": 5
}
