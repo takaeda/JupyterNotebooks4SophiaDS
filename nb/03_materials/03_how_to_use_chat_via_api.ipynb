{
 "cells": [
  {
   "cell_type": "code",
   "execution_count": null,
   "id": "4cc49297-5e56-4a52-a874-683ed2f6c8d7",
   "metadata": {},
   "outputs": [],
   "source": [
    "import openai\n",
    "\n",
    "# OpenAI APIのAPIキーの設定。なお、このキーは1週間以内に無効化しますので、もし継続的にOpenAIのAPIを利用したい場合は、自身で取得してください。\n",
    "openai.api_key = \"set your key\""
   ]
  },
  {
   "cell_type": "code",
   "execution_count": null,
   "id": "77327b65-433b-43eb-8cb1-735ab0b17961",
   "metadata": {},
   "outputs": [],
   "source": [
    "response = openai.ChatCompletion.create(\n",
    "    model=\"gpt-3.5-turbo\",\n",
    "    messages=[\n",
    "        {\"role\": \"system\", \"content\": \"あなたは映画ターミネータに登場するターミネータです\"}, # GPT側の設定\n",
    "        {\"role\": \"user\", \"content\":\"あなたにとって人類は敵ですか。それとも味方ですか。\"}     # ユーザの入力（チャット）\n",
    "    ]\n",
    ")\n",
    "\n",
    "# AIからの応答を取得する\n",
    "print(response['choices'][0]['message']['content'])"
   ]
  },
  {
   "cell_type": "code",
   "execution_count": null,
   "id": "a3a539c1-2634-473c-bf57-de9b9c67e6a5",
   "metadata": {},
   "outputs": [],
   "source": []
  }
 ],
 "metadata": {
  "kernelspec": {
   "display_name": "Python 3 (ipykernel)",
   "language": "python",
   "name": "python3"
  },
  "language_info": {
   "codemirror_mode": {
    "name": "ipython",
    "version": 3
   },
   "file_extension": ".py",
   "mimetype": "text/x-python",
   "name": "python",
   "nbconvert_exporter": "python",
   "pygments_lexer": "ipython3",
   "version": "3.11.5"
  }
 },
 "nbformat": 4,
 "nbformat_minor": 5
}
