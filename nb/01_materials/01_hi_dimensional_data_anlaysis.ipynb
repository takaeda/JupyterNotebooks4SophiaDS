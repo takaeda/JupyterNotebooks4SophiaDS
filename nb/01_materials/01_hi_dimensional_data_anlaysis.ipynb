{
 "cells": [
  {
   "cell_type": "markdown",
   "id": "0340392d-8d14-45f3-b60d-2f623bf33390",
   "metadata": {},
   "source": [
    "Note: 学生の皆様へ。このノートブックを色々と編集して実行する場合は、各自のホームディレクトリへコピーしてから行ってください。"
   ]
  },
  {
   "cell_type": "markdown",
   "id": "958fb354-3306-4619-9f79-44309eecd509",
   "metadata": {},
   "source": [
    "## 3つの分布を有する高次元データを生成する関数の定義"
   ]
  },
  {
   "cell_type": "code",
   "execution_count": null,
   "id": "66fb5a70-5c9f-4075-bd4e-b552a534c71c",
   "metadata": {
    "tags": []
   },
   "outputs": [],
   "source": [
    "import numpy as np\n",
    "from sklearn.datasets import make_blobs\n",
    "from sklearn.preprocessing import StandardScaler  # または MinMaxScaler\n",
    "\n",
    "random_seed = 42 # 乱数のシード値 (42 はしばしば使われるマジックナンバー、おまじない)\n",
    "\n",
    "# 主要次元をn_principal_features個有し、かつ、3つのクラスタを持つ n_total_dim 次元のデータを生成する関数、主要次元以外は乱数から成るノイズ次元を追加\n",
    "def generate_data(n_principal_features, n_samples, n_total_dim):\n",
    "    centers = [\n",
    "        [1, 0, 0],\n",
    "        [0, 1, 0],\n",
    "        [0, 0, 1],\n",
    "    ]\n",
    "    features, labels = make_blobs(n_samples=n_samples, centers=centers, n_features=n_principal_features, random_state=random_seed, cluster_std=0.005)\n",
    "    \n",
    "    # ノイズ次元を n_noise_features 個追加\n",
    "    n_noise_features = n_total_dim - n_principal_features\n",
    "    noise = np.random.randn(n_samples, n_noise_features)\n",
    "    features = np.hstack([features, noise])\n",
    "\n",
    "    # 特徴量を規格化\n",
    "    scaler = StandardScaler()\n",
    "    features = scaler.fit_transform(features)\n",
    "    \n",
    "    return features, labels"
   ]
  },
  {
   "cell_type": "markdown",
   "id": "86658d6a-b108-4acc-ad62-29517ffa8b89",
   "metadata": {},
   "source": [
    "## 主要3次元のプロットで生成データが意図どおりに生成できていることを確認"
   ]
  },
  {
   "cell_type": "code",
   "execution_count": null,
   "id": "5b67018d-76bc-43e7-8514-c3b2e97bc98b",
   "metadata": {
    "tags": []
   },
   "outputs": [],
   "source": [
    "import matplotlib.pyplot as plt\n",
    "\n",
    "# 前のセルの関数を用いて生成された3次元データの散布図を作成してみる\n",
    "n_principal_features = 3 # 主要次元数\n",
    "n_samples = 500 # データ点数\n",
    "features, labels = generate_data(n_principal_features, n_samples, 3)\n",
    "\n",
    "# 3次元散布図の作成\n",
    "fig = plt.figure(figsize=(10, 8))\n",
    "ax = fig.add_subplot(111, projection='3d')\n",
    "\n",
    "# 各クラスタに対して色を変えてプロット\n",
    "colors = ['r', 'g', 'b']\n",
    "for i, color in enumerate(colors):\n",
    "    ax.scatter(features[labels == i][:, 0], features[labels == i][:, 1], features[labels == i][:, 2], c=color, label=f'Cluster {i}', s=50, alpha=0.6)\n",
    "\n",
    "#ax.set_xlim([0, 1])\n",
    "#ax.set_ylim([0, 1])\n",
    "#ax.set_zlim([0, 1])\n",
    "ax.set_xlabel('X axis')\n",
    "ax.set_ylabel('Y axis')\n",
    "ax.set_zlabel('Z axis')\n",
    "ax.legend()\n",
    "\n",
    "plt.show()"
   ]
  },
  {
   "cell_type": "markdown",
   "id": "fbb622c9-95de-48b4-aa1b-1b20eff1f685",
   "metadata": {
    "tags": []
   },
   "source": [
    "## 次元の呪いがかかる様子を観察してみる"
   ]
  },
  {
   "cell_type": "code",
   "execution_count": null,
   "id": "6138d337-d8d7-45f2-adb9-8e99455173f4",
   "metadata": {
    "tags": []
   },
   "outputs": [],
   "source": [
    "import matplotlib.pyplot as plt\n",
    "from sklearn.decomposition import PCA\n",
    "from sklearn.manifold import TSNE, MDS\n",
    "import umap\n",
    "import numpy as np\n",
    "import toorpia.utils as toorpia\n",
    "\n",
    "np.random.seed(random_seed)  # 乱数のシード値を設定(結果の再現性のため)\n",
    "\n",
    "# テストする解析手法とその関数\n",
    "methods = {\n",
    "    \"PCA\": PCA(n_components=2, random_state=random_seed),\n",
    "    \"MDS\": MDS(n_components=2, random_state=random_seed, normalized_stress='auto'),\n",
    "    \"t-SNE\": TSNE(n_components=2, random_state=random_seed),\n",
    "    \"UMAP\": umap.UMAP(n_components=2, random_state=random_seed, n_jobs=1),\n",
    "    \"toorPIA\": toorpia,\n",
    "}\n",
    "\n",
    "# テストする次元数\n",
    "#dimensions = [3, 4, 5, 8, 10] # ノイズ次元を追加して最終的に何次元にするか\n",
    "dimensions = [6, 10, 20, 40, 80, 100] # ノイズ次元を追加して最終的に何次元にするか\n",
    "\n",
    "# サブプロットオブジェクト\n",
    "fig_width = len(dimensions) * 5\n",
    "fig_height = len(methods) * 5\n",
    "fig, axs = plt.subplots(len(methods), len(dimensions), figsize=(fig_width, fig_height))\n",
    "\n",
    "# methodsが1種類の場合、axsを2次元配列に変換\n",
    "if len(methods) == 1:\n",
    "    axs = [axs]\n",
    "\n",
    "# ラベルの色\n",
    "colors = ['r', 'g', 'b', 'c', 'm', 'y']\n",
    "\n",
    "# 各次元毎に解析を実施し、結果をプロット\n",
    "for idx, dimension in enumerate(dimensions):\n",
    "    features, labels = generate_data(n_principal_features, n_samples, dimension)\n",
    "    label_colors = [colors[i] for i in labels.astype(int)]\n",
    "\n",
    "    for row_idx, (method_name, method) in enumerate(methods.items()):\n",
    "        if method_name == 'toorPIA':\n",
    "            features_transformed = method.fit_transform(features, vector_normalization=False)\n",
    "        else:\n",
    "            features_transformed = method.fit_transform(features)\n",
    "        axs[row_idx][idx].scatter(features_transformed[:, 0], features_transformed[:, 1], c=label_colors)\n",
    "\n",
    "        x_center, y_center = np.mean(axs[row_idx][idx].get_xlim()), np.mean(axs[row_idx][idx].get_ylim())\n",
    "        x_range = max(axs[row_idx][idx].get_xlim()) - min(axs[row_idx][idx].get_xlim())\n",
    "        y_range = max(axs[row_idx][idx].get_ylim()) - min(axs[row_idx][idx].get_ylim())\n",
    "        range_val = max(x_range, y_range) / 2.0\n",
    "\n",
    "        axs[row_idx][idx].set_xlim(x_center - range_val, x_center + range_val)\n",
    "        axs[row_idx][idx].set_ylim(y_center - range_val, y_center + range_val)\n",
    "        axs[row_idx][idx].set_title(f'{method_name} - {dimension}D')\n",
    "\n",
    "\n",
    "#plt.tight_layout()\n",
    "plt.show()"
   ]
  },
  {
   "cell_type": "code",
   "execution_count": null,
   "id": "d4d81bed",
   "metadata": {
    "tags": []
   },
   "outputs": [],
   "source": [
    "import matplotlib.pyplot as plt\n",
    "from sklearn.decomposition import PCA\n",
    "from sklearn.manifold import TSNE, MDS\n",
    "import umap\n",
    "import numpy as np\n",
    "import toorpia.utils as toorpia\n",
    "\n",
    "np.random.seed(random_seed)  # 乱数のシード値を設定(結果の再現性のため)\n",
    "\n",
    "# テストする解析手法とその関数\n",
    "methods = {\n",
    "    \"toorPIA\": toorpia,\n",
    "}\n",
    "\n",
    "# テストする次元数\n",
    "dimensions = [200, 400, 800, 1000] # ノイズ次元を追加して最終的に何次元にするか\n",
    "\n",
    "# サブプロットオブジェクト\n",
    "fig_width = len(dimensions) * 5\n",
    "fig_height = len(methods) * 5\n",
    "fig, axs = plt.subplots(len(methods), len(dimensions), figsize=(fig_width, fig_height))\n",
    "\n",
    "# methodsが1種類の場合、axsを2次元配列に変換\n",
    "if len(methods) == 1:\n",
    "    axs = [axs]\n",
    "\n",
    "# ラベルの色\n",
    "colors = ['r', 'g', 'b', 'c', 'm', 'y']\n",
    "\n",
    "# 各次元毎に解析を実施し、結果をプロット\n",
    "for idx, dimension in enumerate(dimensions):\n",
    "    features, labels = generate_data(n_principal_features, n_samples, dimension)\n",
    "    label_colors = [colors[i] for i in labels.astype(int)]\n",
    "\n",
    "    for row_idx, (method_name, method) in enumerate(methods.items()):\n",
    "        if method_name == 'toorPIA':\n",
    "            features_transformed = method.fit_transform(features, vector_normalization=False)\n",
    "        else:\n",
    "            features_transformed = method.fit_transform(features)\n",
    "        axs[row_idx][idx].scatter(features_transformed[:, 0], features_transformed[:, 1], c=label_colors)\n",
    "\n",
    "        x_center, y_center = np.mean(axs[row_idx][idx].get_xlim()), np.mean(axs[row_idx][idx].get_ylim())\n",
    "        x_range = max(axs[row_idx][idx].get_xlim()) - min(axs[row_idx][idx].get_xlim())\n",
    "        y_range = max(axs[row_idx][idx].get_ylim()) - min(axs[row_idx][idx].get_ylim())\n",
    "        range_val = max(x_range, y_range) / 2.0\n",
    "\n",
    "        axs[row_idx][idx].set_xlim(x_center - range_val, x_center + range_val)\n",
    "        axs[row_idx][idx].set_ylim(y_center - range_val, y_center + range_val)\n",
    "        axs[row_idx][idx].set_title(f'{method_name} - {dimension}D')\n",
    "\n",
    "\n",
    "#plt.tight_layout()\n",
    "plt.show()"
   ]
  },
  {
   "cell_type": "code",
   "execution_count": null,
   "id": "58d33196-699b-4ee2-bec3-1909d7fb6f68",
   "metadata": {},
   "outputs": [],
   "source": []
  }
 ],
 "metadata": {
  "kernelspec": {
   "display_name": "Python 3 (ipykernel)",
   "language": "python",
   "name": "python3"
  },
  "language_info": {
   "codemirror_mode": {
    "name": "ipython",
    "version": 3
   },
   "file_extension": ".py",
   "mimetype": "text/x-python",
   "name": "python",
   "nbconvert_exporter": "python",
   "pygments_lexer": "ipython3",
   "version": "3.11.6"
  }
 },
 "nbformat": 4,
 "nbformat_minor": 5
}
