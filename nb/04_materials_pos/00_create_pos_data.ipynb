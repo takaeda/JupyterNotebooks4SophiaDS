{
 "cells": [
  {
   "cell_type": "markdown",
   "id": "b2773598-dd79-4c1e-8f70-ff0fc8b3a621",
   "metadata": {},
   "source": [
    "# POSの模擬データ解析\n"
   ]
  },
  {
   "cell_type": "markdown",
   "id": "fe36f6e5-8f86-404f-ada6-a6bed8dd68eb",
   "metadata": {},
   "source": [
    "## POS (Point of Sale) モックデータの生成\n",
    "\n",
    "次のコードは、スーパーマーケットやコンビニなどでの商品購入情報を模倣するためのPOSデータを生成します。\n",
    "\n",
    "### ステップごとの説明\n",
    "\n",
    "1. **必要なライブラリのインポート**:\n",
    "    ```python\n",
    "    import pandas as pd\n",
    "    import numpy as np\n",
    "    ```\n",
    "    `pandas` はデータ処理に、`numpy` は数値計算に使用します。\n",
    "\n",
    "2. **基本設定**:\n",
    "    - `n_products`: 商品の数。500商品を想定しています。\n",
    "    - `n_receipts`: レシートの数。1500のレシートを想定しています。\n",
    "    - `product_ids` と `receipt_ids`: 商品とレシートのIDを生成します。\n",
    "\n",
    "3. **数量の決定**:\n",
    "    `get_quantity` 関数は、購入する商品の数量をランダムに決定します。数量は1〜5の間で、それぞれの数量が選ばれる確率が設定されています。\n",
    "\n",
    "4. **データフレームの初期化**:\n",
    "    各レシートと商品に対する数量を0で初期化します。\n",
    "\n",
    "5. **データの生成**:\n",
    "    以下のパターンで商品の購入情報を生成します:\n",
    "    - **p1, p2, p3の購入レシート**: このパターンのレシートは、全レシートの30%を占めます。\n",
    "    - **p4, p5, p6, p7の購入レシート**: このパターンのレシートは、全レシートの次の20%を占めます。\n",
    "    - **p1, p7の購入レシート**: このパターンのレシートは、全レシートの次の10%を占めます。\n",
    "    - **p12のみの購入レシート**: このパターンのレシートは、全レシートの次の5%を占めます。\n",
    "    - **ランダムな商品の購入レシート**: 残りのレシートで、ランダムな商品が購入されます。\n",
    "\n",
    "6. **ラベルの割り当て**:\n",
    "    `assign_labels` 関数は、各レシートの購入パターンに基づいてラベルを割り当てます。このコードでは、4つの特定の購入パターンとそれ以外の購入パターンにラベルを割り当てています。\n",
    "\n",
    "最終的に、このコードは各レシートに購入された商品の数量を示すデータフレームを出力します。\n"
   ]
  },
  {
   "cell_type": "code",
   "execution_count": null,
   "id": "2c097e3c-95f8-41c7-8a99-a1902da3c1a2",
   "metadata": {
    "tags": []
   },
   "outputs": [],
   "source": [
    "import pandas as pd\n",
    "import numpy as np\n",
    "\n",
    "# 設定\n",
    "n_products = 500\n",
    "n_receipts = 1500\n",
    "product_ids = [\"p\" + str(i) for i in range(1, n_products + 1)]\n",
    "receipt_ids = [\"r\" + str(i) for i in range(1, n_receipts + 1)]\n",
    "\n",
    "# 1〜5の範囲の数量を取得\n",
    "def get_quantity():\n",
    "    p = [0.50, 0.2475, 0.165, 0.0825, 0.005]\n",
    "    return np.random.choice([1,2,3,4,5], p=p)\n",
    "\n",
    "\n",
    "# データフレームの初期化\n",
    "df = pd.DataFrame(0, index=receipt_ids, columns=product_ids)\n",
    "\n",
    "# p1, p2, p3の購入レシート\n",
    "for i in range(int(n_receipts * 0.30)):\n",
    "    df.loc[receipt_ids[i], [\"p1\", \"p2\", \"p3\"]] = [get_quantity() for _ in range(3)]\n",
    "    random_products = np.random.choice(product_ids[3:], np.random.randint(0, 3), replace=False)\n",
    "    for product in random_products:\n",
    "        df.loc[receipt_ids[i], product] = get_quantity()\n",
    "\n",
    "# p4, p5, p6, p7の購入レシート\n",
    "for i in range(int(n_receipts * 0.30), int(n_receipts * 0.50)):\n",
    "    df.loc[receipt_ids[i], [\"p4\", \"p5\", \"p6\", \"p7\"]] = [get_quantity() for _ in range(4)]\n",
    "    random_products = np.random.choice(product_ids[7:], np.random.randint(0, 3), replace=False)\n",
    "    for product in random_products:\n",
    "        df.loc[receipt_ids[i], product] = get_quantity()\n",
    "\n",
    "# p1, p7の購入レシート\n",
    "for i in range(int(n_receipts * 0.50), int(n_receipts * 0.60)):\n",
    "    df.loc[receipt_ids[i], [\"p1\", \"p7\"]] = [get_quantity() for _ in range(2)]\n",
    "    excluded_products = [\"p1\", \"p7\"]\n",
    "    random_products = np.random.choice(product_ids[7:], np.random.randint(0, 3), replace=False)\n",
    "    for product in random_products:\n",
    "        df.loc[receipt_ids[i], product] = get_quantity()\n",
    "    \n",
    "# p12のみの購入レシート\n",
    "for i in range(int(n_receipts * 0.60), int(n_receipts * 0.65)):\n",
    "    df.loc[receipt_ids[i], \"p12\"] = get_quantity()\n",
    "\n",
    "# ランダムな商品を購入するレシート\n",
    "for i in range(int(n_receipts * 0.65), n_receipts):\n",
    "    random_products = np.random.choice(product_ids, np.random.randint(5, 11), replace=False)\n",
    "    for product in random_products:\n",
    "        df.loc[receipt_ids[i], product] = get_quantity()\n",
    "\n",
    "def assign_labels(df):\n",
    "    labels = []\n",
    "\n",
    "    for index, row in df.iterrows():\n",
    "        if row['p1'] > 0 and row['p2'] > 0 and row['p3'] > 0:\n",
    "            labels.append('A')\n",
    "        elif row['p4'] > 0 and row['p5'] > 0 and row['p6'] > 0 and row['p7'] > 0:\n",
    "            labels.append('B')\n",
    "        elif row['p1'] > 0 and row['p7'] > 0:\n",
    "            labels.append('C')\n",
    "        elif row['p12'] > 0 and row.sum() == row['p12']:\n",
    "            labels.append('D')\n",
    "        else:\n",
    "            labels.append('Other')\n",
    "\n",
    "    return labels\n",
    "        \n",
    "labels = assign_labels(df)\n",
    "\n",
    "df\n"
   ]
  },
  {
   "cell_type": "markdown",
   "id": "4a0f194c-9a12-4161-be4c-8be64b2965b6",
   "metadata": {},
   "source": [
    "## 高次元解析"
   ]
  },
  {
   "cell_type": "code",
   "execution_count": null,
   "id": "ae119538-b45d-4696-bded-efbd0dbdd5e8",
   "metadata": {
    "tags": []
   },
   "outputs": [],
   "source": [
    "# プロット関数定義\n",
    "import matplotlib.pyplot as plt\n",
    "\n",
    "def plot_reduction_results_with_labels(results, labels, titles):\n",
    "    # resultsやtitlesがリストでない場合、リストに変換\n",
    "    if not isinstance(results, list):\n",
    "        results = [results]\n",
    "    if not isinstance(titles, list):\n",
    "        titles = [titles]\n",
    "    \n",
    "    fig, axes = plt.subplots(1, len(results), figsize=(10 * len(results), 5))\n",
    "    \n",
    "    # resultsが1つの場合、axesをリストに変換\n",
    "    if len(results) == 1:\n",
    "        axes = [axes]\n",
    "    \n",
    "    unique_labels = sorted(list(set(labels)))\n",
    "    for ax, result, title in zip(axes, results, titles):\n",
    "        for i, label in enumerate(unique_labels):\n",
    "            idx = [index for index, x in enumerate(labels) if x == label]\n",
    "            ax.scatter(result[idx, 0], result[idx, 1], s=10, label=label, c=label_to_color[label])\n",
    "        ax.set_title(title)\n",
    "        ax.axis('equal')\n",
    "        ax.set_xlim([min(result[:, 0]), max(result[:, 0])])\n",
    "        ax.set_ylim([min(result[:, 1]), max(result[:, 1])])\n",
    "        ax.legend()\n",
    "    plt.tight_layout()\n",
    "    plt.show()\n",
    "    \n",
    "# RGBとCMYを使用して色を区別\n",
    "label_to_color = {\n",
    "    'A': 'b',\n",
    "    'B': 'g',\n",
    "    'C': 'orange', \n",
    "    'D': 'r',\n",
    "    'Other': 'm'\n",
    "}"
   ]
  },
  {
   "cell_type": "markdown",
   "id": "2b649af2-4957-430b-8e2e-50b2ff9c57d2",
   "metadata": {},
   "source": [
    "### PCA, MDSによる解析"
   ]
  },
  {
   "cell_type": "code",
   "execution_count": null,
   "id": "b2faeee3-e8de-4da4-b883-5ad6b29b5eea",
   "metadata": {
    "tags": []
   },
   "outputs": [],
   "source": [
    "from sklearn.decomposition import PCA\n",
    "from sklearn.manifold import MDS\n",
    "\n",
    "pca_result = PCA(n_components=2).fit_transform(df.values)\n",
    "mds_result = MDS(n_components=2).fit_transform(df.values)\n",
    "\n",
    "plot_reduction_results_with_labels([pca_result, mds_result], labels, \n",
    "                                  [\"PCA\", \"MDS\"])"
   ]
  },
  {
   "cell_type": "markdown",
   "id": "7adad2da-79f6-4923-b7c6-155c5c217ad8",
   "metadata": {},
   "source": [
    "### t-SNE, UMAPによる解析"
   ]
  },
  {
   "cell_type": "code",
   "execution_count": null,
   "id": "2f88d582-ca87-4fbc-859a-06512dc37d93",
   "metadata": {
    "tags": []
   },
   "outputs": [],
   "source": [
    "from sklearn.manifold import TSNE\n",
    "import umap\n",
    "\n",
    "# 各手法で次元削減\n",
    "tsne_result = TSNE(n_components=2).fit_transform(df.values)\n",
    "umap_result = umap.UMAP(n_components=2).fit_transform(df.values)\n",
    "\n",
    "plot_reduction_results_with_labels([tsne_result, umap_result], labels, \n",
    "                                  [\"t-SNE\", \"UMAP\"])"
   ]
  },
  {
   "cell_type": "markdown",
   "id": "f7c07af5-fa38-47e8-886e-1fc7561de983",
   "metadata": {},
   "source": [
    "### toorPIAによる解析"
   ]
  },
  {
   "cell_type": "code",
   "execution_count": null,
   "id": "17ee5884-ea2d-4c49-abc2-ef58cfb2a0fc",
   "metadata": {
    "tags": []
   },
   "outputs": [],
   "source": [
    "import toorpia.utils as toorpia\n",
    "\n",
    "# 各手法で次元削減\n",
    "toorpia_result = toorpia.fit_transform(df.values, item_normalization=False, vector_normalization=False)\n",
    "\n",
    "plot_reduction_results_with_labels([toorpia_result], labels, \n",
    "                                  [\"toorPIA\"])"
   ]
  },
  {
   "cell_type": "code",
   "execution_count": null,
   "id": "e3fb425b-c9a2-4416-8eaa-3453f84a4f4a",
   "metadata": {
    "tags": []
   },
   "outputs": [],
   "source": [
    "# toorPIA\n",
    "import os\n",
    "import toorpia.utils as toorpia\n",
    "\n",
    "working_dir = 'toorpia_analysis'\n",
    "os.makedirs(working_dir, exist_ok=True)\n",
    "\n",
    "df['labels'] = labels\n",
    "rawdata = os.path.join(working_dir, 'rawdata.csv')\n",
    "df.to_csv(rawdata, index=False, header=True)\n",
    "df = df.drop('labels', axis=1)\n",
    "\n",
    "params = {\n",
    "    'working_dir': working_dir,\n",
    "    'rawdata': rawdata,\n",
    "    'item_normalization': False,\n",
    "    'vector_normalization': False,\n",
    "    'type_weight': working_dir + \"/type_weight.csv\",\n",
    "}\n",
    "toorpia.create_type_weight(params, force=True)\n",
    "x, y = toorpia.create_basemap(params, force=True)"
   ]
  },
  {
   "cell_type": "markdown",
   "id": "cca09028-7239-4c1c-8d25-08fc325ecae9",
   "metadata": {},
   "source": [
    "## POSデータを転置にして解析をしてみる"
   ]
  },
  {
   "cell_type": "code",
   "execution_count": null,
   "id": "599aaca8-0aa3-488e-9303-b39c4eb1d5b6",
   "metadata": {
    "tags": []
   },
   "outputs": [],
   "source": [
    "# データフレームを転置\n",
    "df_transposed = df.transpose()\n",
    "df_transposed"
   ]
  },
  {
   "cell_type": "code",
   "execution_count": null,
   "id": "1b818aed-34bb-4c40-8ba6-5208df0832c3",
   "metadata": {
    "tags": []
   },
   "outputs": [],
   "source": [
    "# toorPIA\n",
    "import os\n",
    "import toorpia.utils as toorpia\n",
    "\n",
    "working_dir = 'toorpia_analysis_transposed'\n",
    "os.makedirs(working_dir, exist_ok=True)\n",
    "\n",
    "rawdata = os.path.join(working_dir, 'rawdata.csv')\n",
    "df_transposed.to_csv(rawdata, index=False, header=True)\n",
    "df_transposed['label'] = df_transposed.index\n",
    "\n",
    "params = {\n",
    "    'working_dir': working_dir,\n",
    "    'rawdata': rawdata,\n",
    "    'item_normalization': False,\n",
    "    'type_weight': working_dir + \"/type_weight.csv\",\n",
    "}\n",
    "toorpia.create_type_weight(params, force=True)\n",
    "x, y = toorpia.create_basemap(params, force=True)"
   ]
  },
  {
   "cell_type": "markdown",
   "id": "20ecb241-e925-421e-99cd-8910cd445bfe",
   "metadata": {},
   "source": [
    "POSの転置データから何がわかるか各自考察してください。"
   ]
  },
  {
   "cell_type": "code",
   "execution_count": null,
   "id": "a89c75e3-c927-4e8f-98d4-fde69990c80c",
   "metadata": {},
   "outputs": [],
   "source": []
  }
 ],
 "metadata": {
  "kernelspec": {
   "display_name": "Python 3 (ipykernel)",
   "language": "python",
   "name": "python3"
  },
  "language_info": {
   "codemirror_mode": {
    "name": "ipython",
    "version": 3
   },
   "file_extension": ".py",
   "mimetype": "text/x-python",
   "name": "python",
   "nbconvert_exporter": "python",
   "pygments_lexer": "ipython3",
   "version": "3.11.6"
  }
 },
 "nbformat": 4,
 "nbformat_minor": 5
}
