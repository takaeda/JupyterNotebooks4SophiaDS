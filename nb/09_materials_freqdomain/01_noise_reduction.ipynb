{
 "cells": [
  {
   "cell_type": "markdown",
   "id": "c52c73b8-7e3f-448e-be2e-f8cf305b2a30",
   "metadata": {},
   "source": [
    "# ノイズの分離とフィルタリング"
   ]
  },
  {
   "cell_type": "markdown",
   "id": "175af255-5b62-4be8-a0f6-68afae23b851",
   "metadata": {},
   "source": [
    "## ノイズのある振動データの生成"
   ]
  },
  {
   "cell_type": "code",
   "execution_count": null,
   "id": "34c33b2e-91a3-49f3-bb3e-441de4c98e73",
   "metadata": {},
   "outputs": [],
   "source": [
    "import numpy as np\n",
    "import matplotlib.pyplot as plt\n",
    "from scipy.fft import fft, ifft\n",
    "\n",
    "# 模擬データの生成\n",
    "# パラメータ設定\n",
    "fs = 20000  # サンプリング周波数(Hz)\n",
    "t = np.arange(0, 1, 1/fs)  # 時間軸（1秒間）\n",
    "f_signal = 100  # 信号の周波数 (10 Hz)\n",
    "\n",
    "# 正弦波信号の生成\n",
    "signal = np.sin(2 * np.pi * f_signal * t)\n",
    "\n",
    "# 正弦波信号へのノイズの追加（ホワイトノイズ）\n",
    "noise = np.random.normal(0, 2, t.shape)\n",
    "noisy_signal = signal + noise\n",
    "\n",
    "# ノイズ付き信号のプロット\n",
    "plt.figure(figsize=(15, 5))\n",
    "\n",
    "plt.subplot(1, 1, 1)\n",
    "plt.plot(t, noisy_signal)\n",
    "plt.title(\"Signal with Noise\")\n",
    "plt.xlabel(\"Time [s]\")\n",
    "plt.ylabel(\"Amplitude\")\n",
    "\n",
    "plt.tight_layout()\n",
    "plt.show()"
   ]
  },
  {
   "cell_type": "markdown",
   "id": "536fa0db-ba89-40ab-9444-9cb48a931a36",
   "metadata": {},
   "source": [
    "この生データから、振動データの特性を解明することは困難。"
   ]
  },
  {
   "cell_type": "markdown",
   "id": "40f6c193-ce3a-4631-9887-6611240aead2",
   "metadata": {},
   "source": [
    "## ノイズのある振動データを周波数領域へ変換(FFT処理)"
   ]
  },
  {
   "cell_type": "code",
   "execution_count": null,
   "id": "64b59b5a-4e8a-41ac-b002-c2cd371b502a",
   "metadata": {},
   "outputs": [],
   "source": [
    "import numpy as np\n",
    "import matplotlib.pyplot as plt\n",
    "from scipy.fft import fft, ifft\n",
    "\n",
    "# FFT処理\n",
    "fft_signal = fft(noisy_signal)\n",
    "\n",
    "# 周波数軸\n",
    "freqs = np.fft.fftfreq(len(t), 1/fs)\n",
    "\n",
    "plt.figure(figsize=(15, 5))\n",
    "plt.subplot(1, 1, 1)\n",
    "plt.plot(freqs, np.abs(fft_signal))\n",
    "plt.title(\"FFT of Noisy Signal\")\n",
    "plt.xlabel(\"Frequency [Hz]\")\n",
    "plt.ylabel(\"Magnitude\")\n",
    "plt.xlim(0, 200)\n",
    "\n",
    "plt.tight_layout()\n",
    "plt.show()"
   ]
  },
  {
   "cell_type": "markdown",
   "id": "f4df10d3-d53d-47b1-8025-6507b4eac0cd",
   "metadata": {},
   "source": [
    "この図より、FFT処理により、ノイズ成分に邪魔されることなく10 Hzのピークを明確に検出することができることが分かる。"
   ]
  },
  {
   "cell_type": "markdown",
   "id": "a690ca05-7f8d-434f-b96a-0d769c2a56dd",
   "metadata": {},
   "source": [
    "## 参考：ノイズ除去\n",
    "\n",
    "元のノイズ入り信号と比較せよ"
   ]
  },
  {
   "cell_type": "code",
   "execution_count": null,
   "id": "7a11ce1d-83c1-42fb-a495-c643c7469360",
   "metadata": {},
   "outputs": [],
   "source": [
    "import numpy as np\n",
    "import matplotlib.pyplot as plt\n",
    "from scipy.fft import fft, ifft\n",
    "\n",
    "# フィルタリング：10Hzの周波数成分のみを抽出（バンドパスフィルタ）\n",
    "filtered_fft_signal = np.where((freqs > 98) & (freqs < 102), fft_signal, 0)\n",
    "# 逆FFT処理\n",
    "filtered_signal = ifft(filtered_fft_signal)\n",
    "\n",
    "# フィルタリング後のFFT結果\n",
    "plt.figure(figsize=(15, 5))\n",
    "plt.subplot(1, 1, 1)\n",
    "plt.plot(freqs, np.abs(filtered_fft_signal))\n",
    "plt.title(\"Filtered FFT Signal\")\n",
    "plt.xlabel(\"Frequency [Hz]\")\n",
    "plt.ylabel(\"Magnitude\")\n",
    "plt.xlim(0, 200)\n",
    "\n",
    "plt.tight_layout()\n",
    "plt.show()\n",
    "\n",
    "# フィルタリング後の信号\n",
    "plt.figure(figsize=(15, 5))\n",
    "plt.subplot(1, 1, 1)\n",
    "plt.plot(t, filtered_signal.real)\n",
    "plt.title(\"Filtered Signal\")\n",
    "plt.xlabel(\"Time [s]\")\n",
    "plt.ylabel(\"Amplitude\")\n",
    "\n",
    "plt.tight_layout()\n",
    "plt.show()\n",
    "\n"
   ]
  },
  {
   "cell_type": "code",
   "execution_count": null,
   "id": "e37cc5c7-05a7-4555-aab3-0fea09fa9ee3",
   "metadata": {},
   "outputs": [],
   "source": []
  },
  {
   "cell_type": "code",
   "execution_count": null,
   "id": "28733d9f-a308-4950-b9b2-4ac1c117b7d5",
   "metadata": {},
   "outputs": [],
   "source": []
  }
 ],
 "metadata": {
  "kernelspec": {
   "display_name": "Python 3 (ipykernel)",
   "language": "python",
   "name": "python3"
  },
  "language_info": {
   "codemirror_mode": {
    "name": "ipython",
    "version": 3
   },
   "file_extension": ".py",
   "mimetype": "text/x-python",
   "name": "python",
   "nbconvert_exporter": "python",
   "pygments_lexer": "ipython3",
   "version": "3.11.6"
  }
 },
 "nbformat": 4,
 "nbformat_minor": 5
}
