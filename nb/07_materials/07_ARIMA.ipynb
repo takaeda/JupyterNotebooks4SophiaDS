{
 "cells": [
  {
   "cell_type": "markdown",
   "metadata": {},
   "source": [
    "# 非定常データの粗視化による予測精度の改善"
   ]
  },
  {
   "cell_type": "code",
   "execution_count": null,
   "metadata": {},
   "outputs": [],
   "source": [
    "import numpy as np\n",
    "import matplotlib.pyplot as plt\n",
    "import pandas as pd\n",
    "from statsmodels.tsa.arima.model import ARIMA\n",
    "\n",
    "# 非定常データの生成\n",
    "np.random.seed(0)\n",
    "time = np.arange(100)\n",
    "non_stationary_data = np.random.randn(100).cumsum() + np.sin(np.linspace(0, 10, 100))\n",
    "\n",
    "# DataFrameに変換\n",
    "df = pd.DataFrame({'value': non_stationary_data}, index=pd.to_datetime(time, unit='s'))\n",
    "\n",
    "# 予測モデルの適用\n",
    "model = ARIMA(df, order=(2, 1, 2))\n",
    "results = model.fit()\n",
    "\n",
    "plt.figure(figsize=(12, 6))\n",
    "plt.plot(df, label='Original')\n",
    "plt.plot(results.fittedvalues, color='red', label='Fitted Values')\n",
    "plt.title('ARIMA Model on Non-Stationary Data')\n",
    "plt.legend()\n",
    "plt.show()\n",
    "\n"
   ]
  },
  {
   "cell_type": "code",
   "execution_count": null,
   "metadata": {},
   "outputs": [],
   "source": [
    "import numpy as np\n",
    "import matplotlib.pyplot as plt\n",
    "import pandas as pd\n",
    "from statsmodels.tsa.arima.model import ARIMA\n",
    "\n",
    "# 移動平均の適用（粗視化）\n",
    "window_size = 10  # 移動平均のウィンドウサイズ\n",
    "df_smoothed = df.rolling(window=window_size).mean()\n",
    "\n",
    "# 移動平均のデータをARIMAモデルに適用\n",
    "model_smoothed = ARIMA(df_smoothed.dropna(), order=(2, 0, 2))  # 差分を取らない (I=0)\n",
    "results_smoothed = model_smoothed.fit()\n",
    "\n",
    "# 予測結果のプロット\n",
    "plt.figure(figsize=(12, 6))\n",
    "plt.plot(df, label='Original Data')\n",
    "plt.plot(df_smoothed, label='Smoothed Data', alpha=0.7, color='green')\n",
    "plt.plot(results_smoothed.fittedvalues, color='red', label='ARIMA Predictions')\n",
    "plt.title('ARIMA Model on Smoothed (Moving Average) Data')\n",
    "plt.legend()\n",
    "plt.show()\n"
   ]
  }
 ],
 "metadata": {
  "kernelspec": {
   "display_name": "Python 3 (ipykernel)",
   "language": "python",
   "name": "python3"
  },
  "language_info": {
   "codemirror_mode": {
    "name": "ipython",
    "version": 3
   },
   "file_extension": ".py",
   "mimetype": "text/x-python",
   "name": "python",
   "nbconvert_exporter": "python",
   "pygments_lexer": "ipython3",
   "version": "3.11.6"
  }
 },
 "nbformat": 4,
 "nbformat_minor": 4
}
