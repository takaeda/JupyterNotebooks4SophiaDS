{
 "cells": [
  {
   "cell_type": "markdown",
   "id": "a1523fef-7402-4afd-ba9c-061c95e1935d",
   "metadata": {},
   "source": [
    "# ベクトル自己回帰（VAR）モデル\n",
    "ベクトル自己回帰（VAR）モデルの基本的な概念と、時系列データに対するVARモデルの適用方法について説明する"
   ]
  },
  {
   "cell_type": "code",
   "execution_count": null,
   "id": "610e1365-4d3b-4a8c-9bb1-38ca380a5238",
   "metadata": {},
   "outputs": [],
   "source": [
    "import numpy as np\n",
    "import pandas as pd\n",
    "import matplotlib.pyplot as plt\n",
    "from statsmodels.tsa.api import VAR"
   ]
  },
  {
   "cell_type": "code",
   "execution_count": null,
   "id": "e8b3f8c9-967e-41b6-98ed-bdd1c92c5a96",
   "metadata": {},
   "outputs": [],
   "source": [
    "# ここでは例としてランダムなデータを生成\n",
    "np.random.seed(0)\n",
    "data = np.column_stack([\n",
    "    np.random.random(100) + 5 * np.sin(np.linspace(0, 20, 100)),\n",
    "    np.random.random(100) - np.arange(100) * 0.5,\n",
    "    np.random.random(100) + np.arange(100) * 0.5,\n",
    "    np.random.random(100) - np.arange(100) * 0.1,\n",
    "    np.random.random(100),\n",
    "    np.random.random(100)\n",
    "])\n",
    "time_series_df = pd.DataFrame(data, columns=[f'TimeSeries_{i}' for i in range(1, 7)])"
   ]
  },
  {
   "cell_type": "markdown",
   "id": "9efa4799-e151-41b4-a058-88c53c87fb92",
   "metadata": {},
   "source": [
    "### VARモデルの適用"
   ]
  },
  {
   "cell_type": "code",
   "execution_count": null,
   "id": "b120ab3c-9d68-4d33-8bc4-838a67d0ce49",
   "metadata": {},
   "outputs": [],
   "source": [
    "model = VAR(time_series_df)\n",
    "model_fitted = model.fit(10)  # ラグ(どれだけ前のデータを加味するか)の数はデータに応じて調整する"
   ]
  },
  {
   "cell_type": "markdown",
   "id": "1bc549d9-cd57-43af-bfc6-e96db01bb5a5",
   "metadata": {},
   "source": [
    "### 結果の分析"
   ]
  },
  {
   "cell_type": "code",
   "execution_count": null,
   "id": "120f8652-44aa-4394-ac7d-c6f2a3afdd85",
   "metadata": {},
   "outputs": [],
   "source": [
    "# モデルの結果を表示\n",
    "#print(model_fitted.summary())\n",
    "\n",
    "# 各時系列のプロット\n",
    "model_fitted.plot()\n",
    "plt.show()"
   ]
  },
  {
   "cell_type": "markdown",
   "id": "02454892-a8f9-4ac5-bd8c-112204987455",
   "metadata": {},
   "source": [
    "### インパルス応答関数（IRF）の分析"
   ]
  },
  {
   "cell_type": "code",
   "execution_count": null,
   "id": "7ed97bc0-3d6a-43b2-ba29-efc90d2d00c4",
   "metadata": {},
   "outputs": [],
   "source": [
    "irf = model_fitted.irf(10)\n",
    "irf.plot(orth=False)\n",
    "plt.show()"
   ]
  },
  {
   "cell_type": "code",
   "execution_count": null,
   "id": "7f37e0ad-aa61-4b51-8901-9c3f0ba332ff",
   "metadata": {},
   "outputs": [],
   "source": []
  }
 ],
 "metadata": {
  "kernelspec": {
   "display_name": "Python 3 (ipykernel)",
   "language": "python",
   "name": "python3"
  },
  "language_info": {
   "codemirror_mode": {
    "name": "ipython",
    "version": 3
   },
   "file_extension": ".py",
   "mimetype": "text/x-python",
   "name": "python",
   "nbconvert_exporter": "python",
   "pygments_lexer": "ipython3",
   "version": "3.11.6"
  }
 },
 "nbformat": 4,
 "nbformat_minor": 5
}
