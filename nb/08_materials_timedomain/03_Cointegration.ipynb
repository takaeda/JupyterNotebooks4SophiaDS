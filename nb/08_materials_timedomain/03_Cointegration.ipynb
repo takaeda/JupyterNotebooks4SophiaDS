{
 "cells": [
  {
   "cell_type": "markdown",
   "id": "d2993d9d-63b8-45c5-bed9-604669e8fd8d",
   "metadata": {},
   "source": [
    "# 共和分分析"
   ]
  },
  {
   "cell_type": "code",
   "execution_count": null,
   "id": "17741459-71cd-42b4-952b-d495cc8f94ce",
   "metadata": {},
   "outputs": [],
   "source": [
    "import numpy as np\n",
    "import pandas as pd\n",
    "import matplotlib.pyplot as plt\n",
    "from statsmodels.tsa.vector_ar.vecm import coint_johansen\n"
   ]
  },
  {
   "cell_type": "code",
   "execution_count": null,
   "id": "26a42014-dd8d-441b-a33a-3e8128084b17",
   "metadata": {},
   "outputs": [],
   "source": [
    "# 仮想的な時系列データの生成\n",
    "np.random.seed(0)\n",
    "data = np.column_stack([\n",
    "    np.random.random(100) - np.arange(100) * 0.2,\n",
    "    np.random.random(100) + np.arange(100) * 0.2,\n",
    "    np.random.random(100)\n",
    "])\n",
    "time_series_df = pd.DataFrame(data, columns=['TimeSeries1', 'TimeSeries2', 'TimeSeries3'])\n",
    "\n",
    "# データの可視化\n",
    "time_series_df.plot()\n",
    "plt.xlabel('Time')\n",
    "plt.ylabel('Value')\n",
    "plt.title('Time Series Data')\n",
    "plt.show()\n"
   ]
  },
  {
   "cell_type": "code",
   "execution_count": null,
   "id": "a7057dc4-666d-48f1-be3d-0c5a09534cde",
   "metadata": {},
   "outputs": [],
   "source": [
    "# Johansen共和分テストの実行\n",
    "johansen_test = coint_johansen(time_series_df, det_order=0, k_ar_diff=1)\n",
    "\n",
    "# トレース統計量と最大固有値統計量を表示\n",
    "print(\"Trace Statistic:\", johansen_test.lr1)\n",
    "print(\"Max Eigen Statistic:\", johansen_test.lr2)\n",
    "\n",
    "# 共和分ベクトル（固有ベクトル）を表示\n",
    "print(\"Eigenvectors:\\n\", johansen_test.evec)\n",
    "\n",
    "# 臨界値を表示\n",
    "print(\"Critical Values (90%, 95%, 99%): \\n\", johansen_test.cvt)"
   ]
  },
  {
   "cell_type": "code",
   "execution_count": null,
   "id": "acc8107a-041c-4078-bfce-ccad1ac83420",
   "metadata": {},
   "outputs": [],
   "source": []
  }
 ],
 "metadata": {
  "kernelspec": {
   "display_name": "Python 3 (ipykernel)",
   "language": "python",
   "name": "python3"
  },
  "language_info": {
   "codemirror_mode": {
    "name": "ipython",
    "version": 3
   },
   "file_extension": ".py",
   "mimetype": "text/x-python",
   "name": "python",
   "nbconvert_exporter": "python",
   "pygments_lexer": "ipython3",
   "version": "3.11.6"
  }
 },
 "nbformat": 4,
 "nbformat_minor": 5
}
