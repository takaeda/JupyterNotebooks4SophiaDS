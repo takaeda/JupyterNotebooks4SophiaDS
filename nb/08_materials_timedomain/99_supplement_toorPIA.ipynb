{
 "cells": [
  {
   "cell_type": "markdown",
   "id": "0579984a-d920-4fef-80ff-7069852884bf",
   "metadata": {},
   "source": [
    "# toorPIAによる分析\n\n以下では、toorPIAによる時系列データの典型的分析の内容を示す。\n\nここでは、toorPIAという手法を学ぶというより、「**時系列データに対する観測時間窓の幅(window size)の影響**」についての感覚をつかんでほしい。"
   ]
  },
  {
   "cell_type": "code",
   "execution_count": null,
   "id": "93c1a1d9-2c16-4bf9-b371-8b4d0a0977ad",
   "metadata": {},
   "outputs": [],
   "source": [
    "import pandas as pd\n",
    "import numpy as np\n",
    "import matplotlib.pyplot as plt"
   ]
  },
  {
   "cell_type": "code",
   "execution_count": null,
   "id": "a6a8ad34-7933-48b3-a6d0-6e4def34bc58",
   "metadata": {},
   "outputs": [],
   "source": [
    "# サンプルデータの読み込みと確認\n",
    "\n",
    "# データの読み込み\n",
    "rawDataPath = 'rawdata/testdata_for_toor.csv'\n",
    "alldata = pd.read_csv(rawDataPath, encoding=\"UTF8\")\n",
    "\n",
    "# labelカラムの値をlabels配列に格納\n",
    "labels = alldata['label'].values\n",
    "\n",
    "# プロット描画準備\n",
    "fig, ax = plt.subplots(12, 5, figsize=(40, 100))\n",
    "\n",
    "ci = 0\n",
    "for column_label in alldata.columns:\n",
    "    fig_row = ci // 5\n",
    "    fig_col = ci % 5\n",
    "    if column_label == 'id':\n",
    "        continue\n",
    "    if column_label == 'label':\n",
    "        break\n",
    "    ci += 1\n",
    "\n",
    "    xBase, yBase = alldata['id'].values, alldata[column_label].values\n",
    "    ax[fig_row, fig_col].set_xlim(min(xBase), max(xBase))\n",
    "    ax[fig_row, fig_col].set_ylim(min(yBase), max(yBase))\n",
    "    ax[fig_row, fig_col].set_title(f'column={column_label}')\n",
    "\n",
    "    if (ci >= 1 and ci <= 10) or (ci >= 31 and ci <= 60):\n",
    "        ax[fig_row, fig_col].plot(xBase, yBase, c=\"grey\", alpha=0.5)\n",
    "        ax[fig_row, fig_col].scatter(xBase, yBase, c=\"blue\", s=1.0)\n",
    "        continue\n",
    "    elif ci >= 11 and ci <= 20:\n",
    "        ax[fig_row, fig_col].plot(xBase, yBase, c=\"grey\", alpha=0.5)\n",
    "        ax[fig_row, fig_col].scatter(xBase, yBase, c=\"blue\", label='normal', s=1.0)\n",
    "        idx = np.where(labels=='warm-up')\n",
    "        ax[fig_row, fig_col].scatter(xBase[idx], yBase[idx], c=\"green\", label='worm up', s=1.0)\n",
    "        ax[fig_row, fig_col].legend()\n",
    "        continue\n",
    "    elif ci >= 26 and ci <= 30:\n",
    "        ax[fig_row, fig_col].scatter(xBase, yBase, c=\"blue\", label='normal', s=1.0)\n",
    "        continue\n",
    "\n",
    "        \n",
    "\n",
    "    ax[fig_row, fig_col].plot(xBase, yBase, c=\"grey\", alpha=0.5)\n",
    "    idx = np.where(labels=='warm-up')\n",
    "    ax[fig_row, fig_col].scatter(xBase[idx], yBase[idx], c=\"green\", label='worm up', s=1.0)\n",
    "    idx = np.where(labels=='normal')\n",
    "    ax[fig_row, fig_col].scatter(xBase[idx], yBase[idx], c=\"blue\", label='normal', s=1.0)\n",
    "    idx = np.where(labels=='abnormal1')\n",
    "    ax[fig_row, fig_col].scatter(xBase[idx], yBase[idx], c=\"red\", label='abnormal1', s=1.0)\n",
    "    idx = np.where(labels=='abnormal2')\n",
    "    ax[fig_row, fig_col].scatter(xBase[idx], yBase[idx], c=\"orange\", label='abnormal2', s=1.0)\n",
    "    ax[fig_row, fig_col].legend()"
   ]
  },
  {
   "cell_type": "code",
   "execution_count": null,
   "id": "1fe384d5-8cf9-4e3f-955b-b84f5c4acbaa",
   "metadata": {},
   "outputs": [],
   "source": [
    "# toorPIAによる分析\n",
    "\n",
    "import toorpia.utils as tp"
   ]
  },
  {
   "cell_type": "code",
   "execution_count": null,
   "id": "e27618f6-335d-4e86-918a-1a1df1401a5c",
   "metadata": {},
   "outputs": [],
   "source": [
    "# WS=1でマップ表示\n",
    "params = tp.load_params('analysis_ws1')\n",
    "print(\"ws: \" , params['window_size'])\n",
    "x, y = tp.create_basemap(params, force=True)"
   ]
  },
  {
   "cell_type": "markdown",
   "id": "4747c5fb-d2f6-4d96-b25a-b700a09e256d",
   "metadata": {},
   "source": [
    "ws=1の結果においては、c26〜c30カラムの振動(3つの状態)を反映したマップになっている"
   ]
  },
  {
   "cell_type": "code",
   "execution_count": null,
   "id": "09f56c18-31f2-4c0c-be74-297ea8ff4a3f",
   "metadata": {},
   "outputs": [],
   "source": [
    "# WS=30でマップ表示\n",
    "params = tp.load_params('analysis_ws30')\n",
    "print(\"ws: \" , params['window_size'])\n",
    "x, y = tp.create_basemap(params, force=True)"
   ]
  },
  {
   "cell_type": "markdown",
   "id": "79438ee4-24a9-4afc-b426-ac2df45c9f04",
   "metadata": {},
   "source": [
    "ws=30にすると、ws=1の時に観測されたc26〜c30の振動状態が消失していることがわかる"
   ]
  },
  {
   "cell_type": "code",
   "execution_count": null,
   "id": "8c62bfa2-b29f-42da-803f-53bf468befe6",
   "metadata": {},
   "outputs": [],
   "source": [
    "# WS=200でマップ表示\n",
    "params = tp.load_params('analysis_ws200')\n",
    "print(\"ws: \" , params['window_size'])\n",
    "x, y = tp.create_basemap(params, force=True)"
   ]
  },
  {
   "cell_type": "markdown",
   "id": "8bfb0bff-d9c9-44c8-b65a-904c60a61590",
   "metadata": {},
   "source": [
    "ws=200にすると、データが時間軸に沿ってひも状に並ぶようになってきた"
   ]
  },
  {
   "cell_type": "code",
   "execution_count": null,
   "id": "6567cff6-932d-4b93-a07d-c9349607720a",
   "metadata": {},
   "outputs": [],
   "source": [
    "# WS=600でマップ表示\n",
    "params = tp.load_params('analysis_ws600')\n",
    "print(\"ws: \" , params['window_size'])\n",
    "x, y = tp.create_basemap(params, force=True)"
   ]
  },
  {
   "cell_type": "markdown",
   "id": "f4e2aea8-f48b-4b9d-ae39-9c1108ba2ef7",
   "metadata": {},
   "source": [
    "ws=600にすると、更にデータが時間軸に沿ってひも状に。これによって、本データの時間依存性をわかりやすく捉えることができる"
   ]
  },
  {
   "cell_type": "markdown",
   "id": "a3c5e215-91ae-4dbc-a198-c7f4616d186c",
   "metadata": {},
   "source": [
    "## まとめ\n",
    "\n",
    "以上のように、データをどのような時間幅について解析するかによって、観測される事象が変化する。\n",
    "\n",
    "解析の目的が、細かい状態変化を捉えることにあるのであればwsはできるだけ小さい方がよく、一方、粗視化によって全体のトレンドを把握する場合にはwsを適当に大きくとってやる必要がある。"
   ]
  },
  {
   "cell_type": "code",
   "execution_count": null,
   "id": "f1a96d2a-4c0b-4ed1-a268-7a7e39452193",
   "metadata": {},
   "outputs": [],
   "source": []
  }
 ],
 "metadata": {
  "kernelspec": {
   "display_name": "Python 3 (ipykernel)",
   "language": "python",
   "name": "python3"
  },
  "language_info": {
   "codemirror_mode": {
    "name": "ipython",
    "version": 3
   },
   "file_extension": ".py",
   "mimetype": "text/x-python",
   "name": "python",
   "nbconvert_exporter": "python",
   "pygments_lexer": "ipython3",
   "version": "3.11.6"
  }
 },
 "nbformat": 4,
 "nbformat_minor": 5
}
