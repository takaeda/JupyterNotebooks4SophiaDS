{
 "cells": [
  {
   "cell_type": "markdown",
   "metadata": {},
   "source": [
    "## 医療診断データ\n",
    "データファイルは `rawdata/biopsy.csv` です。これは、683名の乳がん診断結果(生検の各評価項目)をまとめた　CSVファイルです([参照URL](https://www.neuraldesigner.com/learning/examples/breast-cancer-diagnosis))。"
   ]
  },
  {
   "cell_type": "code",
   "execution_count": null,
   "metadata": {
    "scrolled": true
   },
   "outputs": [],
   "source": [
    "import pandas as pd\n",
    "import matplotlib.pyplot as plt\n",
    "from sklearn.preprocessing import StandardScaler\n",
    "from sklearn.decomposition import PCA\n",
    "from sklearn.manifold import MDS, TSNE\n",
    "import umap\n",
    "import toorpia.utils as toorpia\n",
    "\n",
    "# CSV ファイルを読み込む\n",
    "df = pd.read_csv('rawdata/biopsy.csv')\n",
    "\n",
    "# 必要なカラムを選択する\n",
    "data = df.iloc[:, 2:-1]\n",
    "\n",
    "def plot_reduction(ax, method, data, title):\n",
    "    method_data = method.fit_transform(data)\n",
    "    method_df = pd.DataFrame(data=method_data, columns=['Dimension 1', 'Dimension 2'])\n",
    "    method_df = pd.concat([method_df, df[['Diagnosis']]], axis=1)\n",
    "\n",
    "    colors = {'benign': 'b', 'malignant': 'r'}\n",
    "    ax.scatter(method_df['Dimension 1'], method_df['Dimension 2'],\n",
    "               c=method_df['Diagnosis'].apply(lambda x: colors[x]), s=50)\n",
    "    ax.set_title(title, fontsize=20)\n",
    "\n",
    "# サブプロットのグリッドを作成する\n",
    "fig, axs = plt.subplots(2, 3, figsize=(24, 16))\n",
    "\n",
    "# 各次元削減手法をプロットする\n",
    "plot_reduction(axs[0, 0], PCA(n_components=2), data, 'PCA')\n",
    "plot_reduction(axs[0, 1], MDS(n_components=2), data, 'MDS')\n",
    "plot_reduction(axs[0, 2], TSNE(n_components=2), data, 't-SNE')\n",
    "plot_reduction(axs[1, 0], umap.UMAP(n_components=2), data, 'UMAP')\n",
    "plot_reduction(axs[1, 1], toorpia, data, 'toorPIA')\n",
    "\n",
    "# グリッドの残りの部分を非表示にする\n",
    "axs[1, 2].axis('off')\n",
    "\n",
    "plt.tight_layout()\n",
    "plt.show()\n"
   ]
  },
  {
   "cell_type": "markdown",
   "metadata": {},
   "source": [
    "## toorPIAを使って、特徴属性を発見してみましょう"
   ]
  },
  {
   "cell_type": "markdown",
   "metadata": {},
   "source": [
    "次のセルを実行して、'rawdata'の欄に（最初は空欄になっています）、`rawdata/biopsy.csv` と入力して 'Save Params'ボタンをクリックしてください。"
   ]
  },
  {
   "cell_type": "code",
   "execution_count": null,
   "metadata": {},
   "outputs": [],
   "source": [
    "toorpia.edit_params('analysis')"
   ]
  },
  {
   "cell_type": "markdown",
   "metadata": {},
   "source": [
    "次のセルを実行して、解析に使う項目の重みを1にして、その他の項目の重みを0に設定してください。設定が完了したら最後に\"Save\"ボタンをクリックしてください。"
   ]
  },
  {
   "cell_type": "code",
   "execution_count": null,
   "metadata": {},
   "outputs": [],
   "source": [
    "toorpia.create_type_weight()"
   ]
  },
  {
   "cell_type": "markdown",
   "metadata": {},
   "source": [
    "次のセルを実行するとGUI画面が起動しますので、「悪性(malignant)」と診断されたに着目して、その診断根拠（特徴属性）を調べてください。"
   ]
  },
  {
   "cell_type": "code",
   "execution_count": null,
   "metadata": {},
   "outputs": [],
   "source": [
    "x, y = toorpia.create_basemap()"
   ]
  },
  {
   "cell_type": "markdown",
   "metadata": {},
   "source": [
    "## すでに解析したマップを用いて、新たな診断データに対する診断を行いましょう"
   ]
  },
  {
   "cell_type": "markdown",
   "metadata": {},
   "source": [
    "再び、`toorpia.edit_params()`を実行して、今度は `add_rawdata` 欄（最初は空白のはずです）に、`rawdata/biopsy-add.csv` と入力してください。\n",
    "入力できたら最後に \"Save Params\"ボタンをクリックすることを忘れずに。"
   ]
  },
  {
   "cell_type": "code",
   "execution_count": null,
   "metadata": {},
   "outputs": [],
   "source": [
    "toorpia.edit_params()"
   ]
  },
  {
   "cell_type": "markdown",
   "metadata": {},
   "source": [
    "次のセルを実行することによって、`rawdata/biopsy-add.csv`の内容が、先ほど作成した `rawdata/biopsy.csv`のマップ上に上書きプロットされます。\n",
    "\n",
    "新たに追加された各プロットが、良性か悪性か等を評価してみましょう。"
   ]
  },
  {
   "cell_type": "code",
   "execution_count": null,
   "metadata": {},
   "outputs": [],
   "source": [
    "xadd, yadd = toorpia.addplot()"
   ]
  },
  {
   "cell_type": "code",
   "execution_count": null,
   "metadata": {},
   "outputs": [],
   "source": []
  }
 ],
 "metadata": {
  "kernelspec": {
   "display_name": "Python 3 (ipykernel)",
   "language": "python",
   "name": "python3"
  },
  "language_info": {
   "codemirror_mode": {
    "name": "ipython",
    "version": 3
   },
   "file_extension": ".py",
   "mimetype": "text/x-python",
   "name": "python",
   "nbconvert_exporter": "python",
   "pygments_lexer": "ipython3",
   "version": "3.11.6"
  }
 },
 "nbformat": 4,
 "nbformat_minor": 4
}
