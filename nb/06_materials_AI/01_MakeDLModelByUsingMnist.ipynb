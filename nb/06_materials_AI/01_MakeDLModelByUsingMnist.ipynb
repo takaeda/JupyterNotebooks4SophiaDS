{
 "cells": [
  {
   "cell_type": "code",
   "execution_count": null,
   "id": "5d7b2c4e-6906-4457-b039-62a836a52246",
   "metadata": {},
   "outputs": [],
   "source": [
    "#!pip3 install tensorflow\n",
    "#!pip install protobuf"
   ]
  },
  {
   "cell_type": "markdown",
   "id": "a89d61f6-de10-48ce-96f5-0dd399952cc8",
   "metadata": {},
   "source": [
    "# MNISTによるAIモデルの構築"
   ]
  },
  {
   "cell_type": "code",
   "execution_count": null,
   "id": "9bd22978-ef59-48c5-b329-b9eabfad6bc7",
   "metadata": {},
   "outputs": [],
   "source": [
    "# ライブラリの読み込み\n",
    "\n",
    "import numpy as np\n",
    "import matplotlib.pyplot as plt\n",
    "import tensorflow as tf\n",
    "from tensorflow.keras.datasets import mnist\n",
    "from tensorflow.keras.models import Sequential\n",
    "from tensorflow.keras.layers import Dense, Flatten, Dropout"
   ]
  },
  {
   "cell_type": "markdown",
   "id": "fa1cb872-97bd-4d3f-979f-750feeb3e26f",
   "metadata": {},
   "source": [
    "## MNISTデータの読み込み"
   ]
  },
  {
   "cell_type": "code",
   "execution_count": null,
   "id": "070d4e2c-8b08-4043-81a0-1fa0702a5a79",
   "metadata": {},
   "outputs": [],
   "source": [
    "# MNISTデータの読み込み\n",
    "(train_images, train_labels), (test_images, test_labels) = mnist.load_data()\n",
    "\n",
    "# データの正規化\n",
    "train_images = train_images / 255.0\n",
    "test_images = test_images / 255.0\n",
    "\n",
    "# データの形状確認\n",
    "print(\"Training data shape:\", train_images.shape)\n",
    "print(\"Testing data shape:\", test_images.shape)\n",
    "\n",
    "# いくつか表示\n",
    "print(\"===================train data===============================\")\n",
    "num_rows, num_cols = 3, 5  # 行数と列数\n",
    "fig, axes = plt.subplots(num_rows, num_cols, figsize=(1.5 * num_cols, 2 * num_rows))\n",
    "for i in range(num_rows * num_cols):\n",
    "    ax = axes[i // num_cols, i % num_cols]\n",
    "    ax.imshow(train_images[i], cmap='gray')\n",
    "    ax.set_title('Label: {}'.format(train_labels[i]))\n",
    "plt.tight_layout()\n",
    "plt.show()\n",
    "\n",
    "print(\"===================test data===============================\")\n",
    "num_rows, num_cols = 3, 5  # 行数と列数\n",
    "fig, axes = plt.subplots(num_rows, num_cols, figsize=(1.5 * num_cols, 2 * num_rows))\n",
    "for i in range(num_rows * num_cols):\n",
    "    ax = axes[i // num_cols, i % num_cols]\n",
    "    ax.imshow(test_images[i], cmap='gray')\n",
    "    ax.set_title('Label: {}'.format(train_labels[i]))\n",
    "plt.tight_layout()\n",
    "plt.show()"
   ]
  },
  {
   "cell_type": "markdown",
   "id": "aa4df295-71be-4bd1-a7e3-05548008f69e",
   "metadata": {},
   "source": [
    "## モデルの定義"
   ]
  },
  {
   "cell_type": "code",
   "execution_count": null,
   "id": "ae547e41-2b90-46fa-aed7-63a761f14d6b",
   "metadata": {},
   "outputs": [],
   "source": [
    "# モデルの定義(TensorFlow & Keras)\n",
    "model = Sequential([\n",
    "    Flatten(input_shape=(28, 28)), # 入力層: 入力画像を28x28ピクセルから784ピクセルの1次元配列に変換\n",
    "    Dense(128, activation='relu'), # 第1の中間層: 128個のニューロンを持つ全結合層。活性化関数としてReLU（Rectified Linear Unit）を使用\n",
    "    Dropout(0.2),                  # ドロップアウト層: 過学習を防ぐために層の出力の20%をランダムにリセットする\n",
    "    Dense(128, activation='relu'), # 第2の中間層: 別の128ニューロンを持つ全結合層。活性化関数はReLU\n",
    "    Dense(10, activation='softmax') # 出力層: 10個のニューロンを持ち、10クラス（0から9の数字）の分類を行うためのsoftmax活性化関数(ベクトルの長さを1に規格化して比較可能に)\n",
    "])\n",
    "\n",
    "# コンパイル設定\n",
    "model.compile(optimizer='adam', # 最適化手法: adam: 効率的な勾配降下法の一種\n",
    "              loss='sparse_categorical_crossentropy', # 最適化計算における損失関数(コスト関数): sparse_categorical_crossentropyは整数形式のラベルを持つ多クラス分類問題に適しているらしい\n",
    "              metrics=['accuracy']) # 学習過程で評価したい指標。ここではとりあえず精度(accuracy)を評価\n",
    "\n",
    "# モデルのサマリを表示\n",
    "model.summary()"
   ]
  },
  {
   "cell_type": "markdown",
   "id": "9c16f3ce-8b45-4317-8957-2051c6b5cb80",
   "metadata": {},
   "source": [
    "## 学習の実施\n",
    "\n",
    "ここでは、全訓練データによる学習を1セットとして、それを5回繰り返すことにした。"
   ]
  },
  {
   "cell_type": "code",
   "execution_count": null,
   "id": "d7a42a99-c18f-44ed-b492-aa09eee85a02",
   "metadata": {},
   "outputs": [],
   "source": [
    "# TensorFlow/Kerasを使用してニューラルネットワークモデルをトレーニング\n",
    "history = model.fit(train_images, train_labels, epochs=5, validation_data=(test_images, test_labels))"
   ]
  },
  {
   "cell_type": "code",
   "execution_count": null,
   "id": "b81061f2-571c-40bc-bd23-e501f6c33a25",
   "metadata": {},
   "outputs": [],
   "source": [
    "# 訓練の精度と損失の可視化\n",
    "plt.figure(figsize=(12, 4))\n",
    "\n",
    "plt.subplot(1, 2, 1)\n",
    "plt.plot(history.history['accuracy'], label='Training Accuracy')\n",
    "plt.plot(history.history['val_accuracy'], label='Validation Accuracy')\n",
    "plt.legend()\n",
    "plt.title('Training and Validation Accuracy')\n",
    "\n",
    "plt.subplot(1, 2, 2)\n",
    "plt.plot(history.history['loss'], label='Training Loss')\n",
    "plt.plot(history.history['val_loss'], label='Validation Loss')\n",
    "plt.legend()\n",
    "plt.title('Training and Validation Loss')\n",
    "\n",
    "plt.tight_layout()\n",
    "plt.show()"
   ]
  },
  {
   "cell_type": "markdown",
   "id": "8566f9fc-8896-422b-9a7c-b1c8f5ec4246",
   "metadata": {},
   "source": [
    "## モデルの保存"
   ]
  },
  {
   "cell_type": "code",
   "execution_count": null,
   "id": "c72fca0b-428d-4a06-99c0-51327e61b4cd",
   "metadata": {},
   "outputs": [],
   "source": [
    "# モデルの保存\n",
    "model.save('model.saved')"
   ]
  },
  {
   "cell_type": "markdown",
   "id": "16b234a2-c9f8-418a-a941-f7a6b793e885",
   "metadata": {},
   "source": [
    "## どのような文字の間違いが多いかを確認"
   ]
  },
  {
   "cell_type": "code",
   "execution_count": null,
   "id": "41e5da89-ff72-4392-8fa3-83343053214e",
   "metadata": {},
   "outputs": [],
   "source": [
    "import numpy as np\n",
    "from collections import Counter\n",
    "\n",
    "def display_predictions(model, input_data, true_labels):\n",
    "    # Model predictions\n",
    "    predictions = model.predict(input_data)\n",
    "    \n",
    "    # Get the indices of the predicted classes\n",
    "    predicted_labels = np.argmax(predictions, axis=1)\n",
    "    \n",
    "    # Initialize a dictionary to count mismatches\n",
    "    mismatches = Counter()\n",
    "    \n",
    "    # Display results\n",
    "    for i in range(len(true_labels)):\n",
    "        if true_labels[i] != predicted_labels[i]:\n",
    "            # Increment the count of the mismatched pair in the dictionary\n",
    "            mismatches[(true_labels[i], predicted_labels[i])] += 1\n",
    "    \n",
    "    # Display mismatched information in a sorted manner\n",
    "    for (actual, predicted), count in mismatches.most_common():\n",
    "        print(f\"Mismatched Pair: Actual Label {actual} | Predicted Label {predicted} | Count: {count}\")\n",
    "\n",
    "# Since this is a hypothetical code snippet, we need to mock the model's predict function and the data\n",
    "# to be able to run this function without errors.\n",
    "\n",
    "# Use the first 10 samples from the teacher data to display the prediction results\n",
    "sample_data = test_images\n",
    "sample_labels = test_labels\n",
    "\n",
    "# Now we can call the modified function\n",
    "display_predictions(model, sample_data, sample_labels)"
   ]
  }
 ],
 "metadata": {
  "kernelspec": {
   "display_name": "Python 3 (ipykernel)",
   "language": "python",
   "name": "python3"
  },
  "language_info": {
   "codemirror_mode": {
    "name": "ipython",
    "version": 3
   },
   "file_extension": ".py",
   "mimetype": "text/x-python",
   "name": "python",
   "nbconvert_exporter": "python",
   "pygments_lexer": "ipython3",
   "version": "3.11.6"
  }
 },
 "nbformat": 4,
 "nbformat_minor": 5
}
